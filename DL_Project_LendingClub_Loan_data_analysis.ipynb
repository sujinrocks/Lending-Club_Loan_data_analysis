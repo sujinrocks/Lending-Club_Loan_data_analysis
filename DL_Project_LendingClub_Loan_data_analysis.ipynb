{
 "cells": [
  {
   "cell_type": "code",
   "execution_count": 1,
   "metadata": {
    "colab": {
     "base_uri": "https://localhost:8080/"
    },
    "id": "k37uheULXLEy",
    "outputId": "628aa700-e886-48af-c074-58040023b817"
   },
   "outputs": [],
   "source": [
    "# import library\n",
    "import pandas as pd\n",
    "import numpy as np\n",
    "import matplotlib.pyplot as plt\n",
    "import seaborn as sns"
   ]
  },
  {
   "cell_type": "code",
   "execution_count": 4,
   "metadata": {
    "id": "qHVEO5G_XLE0"
   },
   "outputs": [],
   "source": [
    "# load the dataset\n",
    "df=pd.read_csv('loan_data.csv')"
   ]
  },
  {
   "cell_type": "code",
   "execution_count": 5,
   "metadata": {
    "colab": {
     "base_uri": "https://localhost:8080/",
     "height": 226
    },
    "id": "pg_K8edxXLE1",
    "outputId": "0959e950-7c16-42b6-9547-701991eefca9"
   },
   "outputs": [
    {
     "data": {
      "text/html": [
       "<div>\n",
       "<style scoped>\n",
       "    .dataframe tbody tr th:only-of-type {\n",
       "        vertical-align: middle;\n",
       "    }\n",
       "\n",
       "    .dataframe tbody tr th {\n",
       "        vertical-align: top;\n",
       "    }\n",
       "\n",
       "    .dataframe thead th {\n",
       "        text-align: right;\n",
       "    }\n",
       "</style>\n",
       "<table border=\"1\" class=\"dataframe\">\n",
       "  <thead>\n",
       "    <tr style=\"text-align: right;\">\n",
       "      <th></th>\n",
       "      <th>credit.policy</th>\n",
       "      <th>purpose</th>\n",
       "      <th>int.rate</th>\n",
       "      <th>installment</th>\n",
       "      <th>log.annual.inc</th>\n",
       "      <th>dti</th>\n",
       "      <th>fico</th>\n",
       "      <th>days.with.cr.line</th>\n",
       "      <th>revol.bal</th>\n",
       "      <th>revol.util</th>\n",
       "      <th>inq.last.6mths</th>\n",
       "      <th>delinq.2yrs</th>\n",
       "      <th>pub.rec</th>\n",
       "      <th>not.fully.paid</th>\n",
       "    </tr>\n",
       "  </thead>\n",
       "  <tbody>\n",
       "    <tr>\n",
       "      <th>0</th>\n",
       "      <td>1</td>\n",
       "      <td>debt_consolidation</td>\n",
       "      <td>0.1189</td>\n",
       "      <td>829.10</td>\n",
       "      <td>11.350407</td>\n",
       "      <td>19.48</td>\n",
       "      <td>737</td>\n",
       "      <td>5639.958333</td>\n",
       "      <td>28854</td>\n",
       "      <td>52.1</td>\n",
       "      <td>0</td>\n",
       "      <td>0</td>\n",
       "      <td>0</td>\n",
       "      <td>0</td>\n",
       "    </tr>\n",
       "    <tr>\n",
       "      <th>1</th>\n",
       "      <td>1</td>\n",
       "      <td>credit_card</td>\n",
       "      <td>0.1071</td>\n",
       "      <td>228.22</td>\n",
       "      <td>11.082143</td>\n",
       "      <td>14.29</td>\n",
       "      <td>707</td>\n",
       "      <td>2760.000000</td>\n",
       "      <td>33623</td>\n",
       "      <td>76.7</td>\n",
       "      <td>0</td>\n",
       "      <td>0</td>\n",
       "      <td>0</td>\n",
       "      <td>0</td>\n",
       "    </tr>\n",
       "    <tr>\n",
       "      <th>2</th>\n",
       "      <td>1</td>\n",
       "      <td>debt_consolidation</td>\n",
       "      <td>0.1357</td>\n",
       "      <td>366.86</td>\n",
       "      <td>10.373491</td>\n",
       "      <td>11.63</td>\n",
       "      <td>682</td>\n",
       "      <td>4710.000000</td>\n",
       "      <td>3511</td>\n",
       "      <td>25.6</td>\n",
       "      <td>1</td>\n",
       "      <td>0</td>\n",
       "      <td>0</td>\n",
       "      <td>0</td>\n",
       "    </tr>\n",
       "    <tr>\n",
       "      <th>3</th>\n",
       "      <td>1</td>\n",
       "      <td>debt_consolidation</td>\n",
       "      <td>0.1008</td>\n",
       "      <td>162.34</td>\n",
       "      <td>11.350407</td>\n",
       "      <td>8.10</td>\n",
       "      <td>712</td>\n",
       "      <td>2699.958333</td>\n",
       "      <td>33667</td>\n",
       "      <td>73.2</td>\n",
       "      <td>1</td>\n",
       "      <td>0</td>\n",
       "      <td>0</td>\n",
       "      <td>0</td>\n",
       "    </tr>\n",
       "    <tr>\n",
       "      <th>4</th>\n",
       "      <td>1</td>\n",
       "      <td>credit_card</td>\n",
       "      <td>0.1426</td>\n",
       "      <td>102.92</td>\n",
       "      <td>11.299732</td>\n",
       "      <td>14.97</td>\n",
       "      <td>667</td>\n",
       "      <td>4066.000000</td>\n",
       "      <td>4740</td>\n",
       "      <td>39.5</td>\n",
       "      <td>0</td>\n",
       "      <td>1</td>\n",
       "      <td>0</td>\n",
       "      <td>0</td>\n",
       "    </tr>\n",
       "  </tbody>\n",
       "</table>\n",
       "</div>"
      ],
      "text/plain": [
       "   credit.policy             purpose  int.rate  installment  log.annual.inc  \\\n",
       "0              1  debt_consolidation    0.1189       829.10       11.350407   \n",
       "1              1         credit_card    0.1071       228.22       11.082143   \n",
       "2              1  debt_consolidation    0.1357       366.86       10.373491   \n",
       "3              1  debt_consolidation    0.1008       162.34       11.350407   \n",
       "4              1         credit_card    0.1426       102.92       11.299732   \n",
       "\n",
       "     dti  fico  days.with.cr.line  revol.bal  revol.util  inq.last.6mths  \\\n",
       "0  19.48   737        5639.958333      28854        52.1               0   \n",
       "1  14.29   707        2760.000000      33623        76.7               0   \n",
       "2  11.63   682        4710.000000       3511        25.6               1   \n",
       "3   8.10   712        2699.958333      33667        73.2               1   \n",
       "4  14.97   667        4066.000000       4740        39.5               0   \n",
       "\n",
       "   delinq.2yrs  pub.rec  not.fully.paid  \n",
       "0            0        0               0  \n",
       "1            0        0               0  \n",
       "2            0        0               0  \n",
       "3            0        0               0  \n",
       "4            1        0               0  "
      ]
     },
     "execution_count": 5,
     "metadata": {},
     "output_type": "execute_result"
    }
   ],
   "source": [
    "df.head()"
   ]
  },
  {
   "cell_type": "code",
   "execution_count": 6,
   "metadata": {
    "colab": {
     "base_uri": "https://localhost:8080/"
    },
    "id": "yo_YGW0IXLE1",
    "outputId": "eb68ab76-7833-4484-f822-16db0879cc06"
   },
   "outputs": [
    {
     "data": {
      "text/plain": [
       "(9578, 14)"
      ]
     },
     "execution_count": 6,
     "metadata": {},
     "output_type": "execute_result"
    }
   ],
   "source": [
    "df.shape"
   ]
  },
  {
   "cell_type": "code",
   "execution_count": 12,
   "metadata": {
    "colab": {
     "base_uri": "https://localhost:8080/",
     "height": 320
    },
    "id": "KcVaV7w7XLE1",
    "outputId": "62193886-ac0d-41ef-8825-0e19849983f5"
   },
   "outputs": [
    {
     "data": {
      "text/html": [
       "<div>\n",
       "<style scoped>\n",
       "    .dataframe tbody tr th:only-of-type {\n",
       "        vertical-align: middle;\n",
       "    }\n",
       "\n",
       "    .dataframe tbody tr th {\n",
       "        vertical-align: top;\n",
       "    }\n",
       "\n",
       "    .dataframe thead th {\n",
       "        text-align: right;\n",
       "    }\n",
       "</style>\n",
       "<table border=\"1\" class=\"dataframe\">\n",
       "  <thead>\n",
       "    <tr style=\"text-align: right;\">\n",
       "      <th></th>\n",
       "      <th>count</th>\n",
       "      <th>mean</th>\n",
       "      <th>std</th>\n",
       "      <th>min</th>\n",
       "      <th>25%</th>\n",
       "      <th>50%</th>\n",
       "      <th>75%</th>\n",
       "      <th>max</th>\n",
       "    </tr>\n",
       "  </thead>\n",
       "  <tbody>\n",
       "    <tr>\n",
       "      <th>credit.policy</th>\n",
       "      <td>9578.0</td>\n",
       "      <td>0.804970</td>\n",
       "      <td>0.396245</td>\n",
       "      <td>0.000000</td>\n",
       "      <td>1.000000</td>\n",
       "      <td>1.000000</td>\n",
       "      <td>1.000000</td>\n",
       "      <td>1.000000e+00</td>\n",
       "    </tr>\n",
       "    <tr>\n",
       "      <th>int.rate</th>\n",
       "      <td>9578.0</td>\n",
       "      <td>0.122640</td>\n",
       "      <td>0.026847</td>\n",
       "      <td>0.060000</td>\n",
       "      <td>0.103900</td>\n",
       "      <td>0.122100</td>\n",
       "      <td>0.140700</td>\n",
       "      <td>2.164000e-01</td>\n",
       "    </tr>\n",
       "    <tr>\n",
       "      <th>installment</th>\n",
       "      <td>9578.0</td>\n",
       "      <td>319.089413</td>\n",
       "      <td>207.071301</td>\n",
       "      <td>15.670000</td>\n",
       "      <td>163.770000</td>\n",
       "      <td>268.950000</td>\n",
       "      <td>432.762500</td>\n",
       "      <td>9.401400e+02</td>\n",
       "    </tr>\n",
       "    <tr>\n",
       "      <th>log.annual.inc</th>\n",
       "      <td>9578.0</td>\n",
       "      <td>10.932117</td>\n",
       "      <td>0.614813</td>\n",
       "      <td>7.547502</td>\n",
       "      <td>10.558414</td>\n",
       "      <td>10.928884</td>\n",
       "      <td>11.291293</td>\n",
       "      <td>1.452835e+01</td>\n",
       "    </tr>\n",
       "    <tr>\n",
       "      <th>dti</th>\n",
       "      <td>9578.0</td>\n",
       "      <td>12.606679</td>\n",
       "      <td>6.883970</td>\n",
       "      <td>0.000000</td>\n",
       "      <td>7.212500</td>\n",
       "      <td>12.665000</td>\n",
       "      <td>17.950000</td>\n",
       "      <td>2.996000e+01</td>\n",
       "    </tr>\n",
       "    <tr>\n",
       "      <th>fico</th>\n",
       "      <td>9578.0</td>\n",
       "      <td>710.846314</td>\n",
       "      <td>37.970537</td>\n",
       "      <td>612.000000</td>\n",
       "      <td>682.000000</td>\n",
       "      <td>707.000000</td>\n",
       "      <td>737.000000</td>\n",
       "      <td>8.270000e+02</td>\n",
       "    </tr>\n",
       "    <tr>\n",
       "      <th>days.with.cr.line</th>\n",
       "      <td>9578.0</td>\n",
       "      <td>4560.767197</td>\n",
       "      <td>2496.930377</td>\n",
       "      <td>178.958333</td>\n",
       "      <td>2820.000000</td>\n",
       "      <td>4139.958333</td>\n",
       "      <td>5730.000000</td>\n",
       "      <td>1.763996e+04</td>\n",
       "    </tr>\n",
       "    <tr>\n",
       "      <th>revol.bal</th>\n",
       "      <td>9578.0</td>\n",
       "      <td>16913.963876</td>\n",
       "      <td>33756.189557</td>\n",
       "      <td>0.000000</td>\n",
       "      <td>3187.000000</td>\n",
       "      <td>8596.000000</td>\n",
       "      <td>18249.500000</td>\n",
       "      <td>1.207359e+06</td>\n",
       "    </tr>\n",
       "    <tr>\n",
       "      <th>revol.util</th>\n",
       "      <td>9578.0</td>\n",
       "      <td>46.799236</td>\n",
       "      <td>29.014417</td>\n",
       "      <td>0.000000</td>\n",
       "      <td>22.600000</td>\n",
       "      <td>46.300000</td>\n",
       "      <td>70.900000</td>\n",
       "      <td>1.190000e+02</td>\n",
       "    </tr>\n",
       "    <tr>\n",
       "      <th>inq.last.6mths</th>\n",
       "      <td>9578.0</td>\n",
       "      <td>1.577469</td>\n",
       "      <td>2.200245</td>\n",
       "      <td>0.000000</td>\n",
       "      <td>0.000000</td>\n",
       "      <td>1.000000</td>\n",
       "      <td>2.000000</td>\n",
       "      <td>3.300000e+01</td>\n",
       "    </tr>\n",
       "    <tr>\n",
       "      <th>delinq.2yrs</th>\n",
       "      <td>9578.0</td>\n",
       "      <td>0.163708</td>\n",
       "      <td>0.546215</td>\n",
       "      <td>0.000000</td>\n",
       "      <td>0.000000</td>\n",
       "      <td>0.000000</td>\n",
       "      <td>0.000000</td>\n",
       "      <td>1.300000e+01</td>\n",
       "    </tr>\n",
       "    <tr>\n",
       "      <th>pub.rec</th>\n",
       "      <td>9578.0</td>\n",
       "      <td>0.062122</td>\n",
       "      <td>0.262126</td>\n",
       "      <td>0.000000</td>\n",
       "      <td>0.000000</td>\n",
       "      <td>0.000000</td>\n",
       "      <td>0.000000</td>\n",
       "      <td>5.000000e+00</td>\n",
       "    </tr>\n",
       "    <tr>\n",
       "      <th>not.fully.paid</th>\n",
       "      <td>9578.0</td>\n",
       "      <td>0.160054</td>\n",
       "      <td>0.366676</td>\n",
       "      <td>0.000000</td>\n",
       "      <td>0.000000</td>\n",
       "      <td>0.000000</td>\n",
       "      <td>0.000000</td>\n",
       "      <td>1.000000e+00</td>\n",
       "    </tr>\n",
       "  </tbody>\n",
       "</table>\n",
       "</div>"
      ],
      "text/plain": [
       "                    count          mean           std         min  \\\n",
       "credit.policy      9578.0      0.804970      0.396245    0.000000   \n",
       "int.rate           9578.0      0.122640      0.026847    0.060000   \n",
       "installment        9578.0    319.089413    207.071301   15.670000   \n",
       "log.annual.inc     9578.0     10.932117      0.614813    7.547502   \n",
       "dti                9578.0     12.606679      6.883970    0.000000   \n",
       "fico               9578.0    710.846314     37.970537  612.000000   \n",
       "days.with.cr.line  9578.0   4560.767197   2496.930377  178.958333   \n",
       "revol.bal          9578.0  16913.963876  33756.189557    0.000000   \n",
       "revol.util         9578.0     46.799236     29.014417    0.000000   \n",
       "inq.last.6mths     9578.0      1.577469      2.200245    0.000000   \n",
       "delinq.2yrs        9578.0      0.163708      0.546215    0.000000   \n",
       "pub.rec            9578.0      0.062122      0.262126    0.000000   \n",
       "not.fully.paid     9578.0      0.160054      0.366676    0.000000   \n",
       "\n",
       "                           25%          50%           75%           max  \n",
       "credit.policy         1.000000     1.000000      1.000000  1.000000e+00  \n",
       "int.rate              0.103900     0.122100      0.140700  2.164000e-01  \n",
       "installment         163.770000   268.950000    432.762500  9.401400e+02  \n",
       "log.annual.inc       10.558414    10.928884     11.291293  1.452835e+01  \n",
       "dti                   7.212500    12.665000     17.950000  2.996000e+01  \n",
       "fico                682.000000   707.000000    737.000000  8.270000e+02  \n",
       "days.with.cr.line  2820.000000  4139.958333   5730.000000  1.763996e+04  \n",
       "revol.bal          3187.000000  8596.000000  18249.500000  1.207359e+06  \n",
       "revol.util           22.600000    46.300000     70.900000  1.190000e+02  \n",
       "inq.last.6mths        0.000000     1.000000      2.000000  3.300000e+01  \n",
       "delinq.2yrs           0.000000     0.000000      0.000000  1.300000e+01  \n",
       "pub.rec               0.000000     0.000000      0.000000  5.000000e+00  \n",
       "not.fully.paid        0.000000     0.000000      0.000000  1.000000e+00  "
      ]
     },
     "execution_count": 12,
     "metadata": {},
     "output_type": "execute_result"
    }
   ],
   "source": [
    "df.describe().transpose()"
   ]
  },
  {
   "cell_type": "code",
   "execution_count": 13,
   "metadata": {
    "colab": {
     "base_uri": "https://localhost:8080/"
    },
    "id": "To7iVmrtXLE2",
    "outputId": "f9a36454-5bff-4d89-ffbd-ad7b521de06c"
   },
   "outputs": [
    {
     "data": {
      "text/plain": [
       "credit.policy        0\n",
       "purpose              0\n",
       "int.rate             0\n",
       "installment          0\n",
       "log.annual.inc       0\n",
       "dti                  0\n",
       "fico                 0\n",
       "days.with.cr.line    0\n",
       "revol.bal            0\n",
       "revol.util           0\n",
       "inq.last.6mths       0\n",
       "delinq.2yrs          0\n",
       "pub.rec              0\n",
       "not.fully.paid       0\n",
       "dtype: int64"
      ]
     },
     "execution_count": 13,
     "metadata": {},
     "output_type": "execute_result"
    }
   ],
   "source": [
    "# missing value\n",
    "df.isnull().sum()"
   ]
  },
  {
   "cell_type": "markdown",
   "metadata": {},
   "source": [
    "#### No null value found. Ready to proceed"
   ]
  },
  {
   "cell_type": "code",
   "execution_count": 14,
   "metadata": {
    "colab": {
     "base_uri": "https://localhost:8080/"
    },
    "id": "Xa1vfhR8XLE2",
    "outputId": "d7a00063-e00a-47e6-b44f-739365b0863b"
   },
   "outputs": [
    {
     "data": {
      "text/plain": [
       "0    8045\n",
       "1    1533\n",
       "Name: not.fully.paid, dtype: int64"
      ]
     },
     "execution_count": 14,
     "metadata": {},
     "output_type": "execute_result"
    }
   ],
   "source": [
    "df['not.fully.paid'].value_counts()\n",
    "# 0- full paid, 1 - not paid\n",
    "# imbalanced data"
   ]
  },
  {
   "cell_type": "markdown",
   "metadata": {},
   "source": [
    "#### In the give dataset the target variable of 0 class contains more data than 1 class. 0 class has around 8045 data and 1 class has around 1533 data. So a imbalance of data in noticed here as per my analysis."
   ]
  },
  {
   "cell_type": "markdown",
   "metadata": {
    "id": "KZT-HCdAXLE2"
   },
   "source": [
    "## EDA of different factors of the dataset."
   ]
  },
  {
   "cell_type": "code",
   "execution_count": 15,
   "metadata": {
    "colab": {
     "base_uri": "https://localhost:8080/"
    },
    "id": "atEtxGOQXLE3",
    "outputId": "1a4d3378-fd2d-4289-fb3b-e1cec6662f84"
   },
   "outputs": [
    {
     "data": {
      "text/plain": [
       "credit.policy          int64\n",
       "purpose               object\n",
       "int.rate             float64\n",
       "installment          float64\n",
       "log.annual.inc       float64\n",
       "dti                  float64\n",
       "fico                   int64\n",
       "days.with.cr.line    float64\n",
       "revol.bal              int64\n",
       "revol.util           float64\n",
       "inq.last.6mths         int64\n",
       "delinq.2yrs            int64\n",
       "pub.rec                int64\n",
       "not.fully.paid         int64\n",
       "dtype: object"
      ]
     },
     "execution_count": 15,
     "metadata": {},
     "output_type": "execute_result"
    }
   ],
   "source": [
    "df.dtypes"
   ]
  },
  {
   "cell_type": "code",
   "execution_count": 76,
   "metadata": {
    "colab": {
     "base_uri": "https://localhost:8080/",
     "height": 449
    },
    "id": "g25v0AbdXLE3",
    "outputId": "e3e1383c-0cd4-46f4-f2c6-4daac307c013"
   },
   "outputs": [
    {
     "data": {
      "image/png": "[encoded data removed]",
      "text/plain": [
       "<Figure size 640x480 with 1 Axes>"
      ]
     },
     "metadata": {},
     "output_type": "display_data"
    }
   ],
   "source": [
    "sns.countplot(x=df['not.fully.paid'])\n",
    "plt.savefig('countplot.png')\n",
    "plt.show()"
   ]
  },
  {
   "cell_type": "code",
   "execution_count": 77,
   "metadata": {
    "colab": {
     "base_uri": "https://localhost:8080/",
     "height": 696
    },
    "id": "nhxQnBSYXLE4",
    "outputId": "070cc6b1-1e0f-4626-c05f-df34de2b4064"
   },
   "outputs": [
    {
     "data": {
      "image/png": "[encoded data removed]",
      "text/plain": [
       "<Figure size 1000x800 with 1 Axes>"
      ]
     },
     "metadata": {},
     "output_type": "display_data"
    }
   ],
   "source": [
    "plt.figure(figsize=(10,8))\n",
    "sns.countplot(x=df['purpose'])\n",
    "plt.savefig('countplot2.png')\n",
    "plt.show()"
   ]
  },
  {
   "cell_type": "markdown",
   "metadata": {},
   "source": [
    "#### As per the observation from above chart debt_consolidation has the highest number of data occurance with reference to the purpose column."
   ]
  },
  {
   "cell_type": "code",
   "execution_count": 78,
   "metadata": {
    "colab": {
     "base_uri": "https://localhost:8080/",
     "height": 698
    },
    "id": "y-Fg4_OpXLE4",
    "outputId": "dbc38608-7d4f-4a25-ed61-1bf9abb800a0"
   },
   "outputs": [
    {
     "data": {
      "image/png": "[encoded data removed]",
      "text/plain": [
       "<Figure size 1000x800 with 1 Axes>"
      ]
     },
     "metadata": {},
     "output_type": "display_data"
    }
   ],
   "source": [
    "# purpose ---- not fully paid\n",
    "plt.figure(figsize=(10,8))\n",
    "sns.countplot(x='purpose',hue='not.fully.paid',data=df)\n",
    "plt.savefig('countplot2.png')\n",
    "plt.show()"
   ]
  },
  {
   "cell_type": "markdown",
   "metadata": {},
   "source": [
    "#### As per above chart, from the debt_consolidation data not_full_paid=0 has the highest number of occurance."
   ]
  },
  {
   "cell_type": "code",
   "execution_count": 79,
   "metadata": {
    "colab": {
     "base_uri": "https://localhost:8080/",
     "height": 607
    },
    "id": "rvuEAeEfXLE5",
    "outputId": "5dd62515-f4f4-4c63-8549-cee6bcc01609"
   },
   "outputs": [
    {
     "data": {
      "image/png": "[encoded data removed]",
      "text/plain": [
       "<Figure size 600x600 with 3 Axes>"
      ]
     },
     "metadata": {},
     "output_type": "display_data"
    }
   ],
   "source": [
    "# bi variate analysis\n",
    "sns.jointplot(x='fico',y='int.rate',data=df,kind='hex',color='g')\n",
    "plt.savefig('Jointplot.png')\n",
    "plt.show()"
   ]
  },
  {
   "cell_type": "code",
   "execution_count": 80,
   "metadata": {
    "colab": {
     "base_uri": "https://localhost:8080/",
     "height": 449
    },
    "id": "jcadGvr7XLE5",
    "outputId": "fc310ac5-2a43-46a1-8620-cb162aef3f37"
   },
   "outputs": [
    {
     "data": {
      "image/png": "[encoded data removed]",
      "text/plain": [
       "<Figure size 640x480 with 1 Axes>"
      ]
     },
     "metadata": {},
     "output_type": "display_data"
    }
   ],
   "source": [
    "sns.scatterplot(x='fico',y='int.rate',data=df)\n",
    "plt.savefig('Scatterplot.png')\n",
    "plt.show()"
   ]
  },
  {
   "cell_type": "code",
   "execution_count": 81,
   "metadata": {
    "colab": {
     "base_uri": "https://localhost:8080/",
     "height": 466
    },
    "id": "4QULVlO0XLE9",
    "outputId": "61fa1e32-323d-44ad-a3fa-c4e0fdac64b5"
   },
   "outputs": [
    {
     "data": {
      "image/png": "[encoded data removed]",
      "text/plain": [
       "<Figure size 640x480 with 1 Axes>"
      ]
     },
     "metadata": {},
     "output_type": "display_data"
    }
   ],
   "source": [
    "sns.histplot(df['fico'])\n",
    "plt.savefig('histplot.png')\n",
    "plt.show()"
   ]
  },
  {
   "cell_type": "code",
   "execution_count": 82,
   "metadata": {
    "colab": {
     "base_uri": "https://localhost:8080/",
     "height": 449
    },
    "id": "QWsbsfotXLE-",
    "outputId": "0da49271-6c20-4540-e3fd-7f0b77cd47ab"
   },
   "outputs": [
    {
     "data": {
      "image/png": "[encoded data removed]",
      "text/plain": [
       "<Figure size 640x480 with 1 Axes>"
      ]
     },
     "metadata": {},
     "output_type": "display_data"
    }
   ],
   "source": [
    "sns.histplot(x='fico',hue='not.fully.paid',data=df)\n",
    "plt.savefig('histplot1.png')\n",
    "plt.show()"
   ]
  },
  {
   "cell_type": "markdown",
   "metadata": {
    "id": "Pl_AZYmBXLE_"
   },
   "source": [
    "Feature Transformation\n",
    "\n",
    "##### Transform categorical values into numerical values (discrete)"
   ]
  },
  {
   "cell_type": "code",
   "execution_count": 23,
   "metadata": {
    "colab": {
     "base_uri": "https://localhost:8080/"
    },
    "id": "vs6IOfbCXLE_",
    "outputId": "6599bf91-ae02-45d9-b32c-336846dc202f"
   },
   "outputs": [
    {
     "data": {
      "text/plain": [
       "0    8045\n",
       "1    1533\n",
       "Name: not.fully.paid, dtype: int64"
      ]
     },
     "execution_count": 23,
     "metadata": {},
     "output_type": "execute_result"
    }
   ],
   "source": [
    "# handle imbalanced dataset\n",
    "df['not.fully.paid'].value_counts()"
   ]
  },
  {
   "cell_type": "code",
   "execution_count": 24,
   "metadata": {
    "id": "6kttcK9gXLFA"
   },
   "outputs": [],
   "source": [
    "not_fully_paid_0=df[df['not.fully.paid']==0]\n",
    "not_fully_paid_1=df[df['not.fully.paid']==1]"
   ]
  },
  {
   "cell_type": "code",
   "execution_count": 25,
   "metadata": {
    "colab": {
     "base_uri": "https://localhost:8080/"
    },
    "id": "tSmL_VECXLFA",
    "outputId": "75cb250c-ab30-4211-f583-084c05f81e49"
   },
   "outputs": [
    {
     "data": {
      "text/plain": [
       "(8045, 14)"
      ]
     },
     "execution_count": 25,
     "metadata": {},
     "output_type": "execute_result"
    }
   ],
   "source": [
    "not_fully_paid_0.shape"
   ]
  },
  {
   "cell_type": "code",
   "execution_count": 26,
   "metadata": {
    "colab": {
     "base_uri": "https://localhost:8080/"
    },
    "id": "u_f23yG0XLFA",
    "outputId": "80816ae6-f5f0-432f-dd3b-a17b1b4ab034"
   },
   "outputs": [
    {
     "data": {
      "text/plain": [
       "(1533, 14)"
      ]
     },
     "execution_count": 26,
     "metadata": {},
     "output_type": "execute_result"
    }
   ],
   "source": [
    "not_fully_paid_1.shape"
   ]
  },
  {
   "cell_type": "code",
   "execution_count": 27,
   "metadata": {
    "id": "kU9ZIGPjXLFB"
   },
   "outputs": [],
   "source": [
    "# resample\n",
    "from sklearn.utils import resample\n",
    "df_minor_upsample=resample(not_fully_paid_1,replace=True,n_samples=8045)"
   ]
  },
  {
   "cell_type": "code",
   "execution_count": 28,
   "metadata": {
    "id": "STdSMejXXLFB"
   },
   "outputs": [],
   "source": [
    "new_df=pd.concat([not_fully_paid_0,df_minor_upsample])"
   ]
  },
  {
   "cell_type": "code",
   "execution_count": 29,
   "metadata": {
    "id": "P5jyOjyEXLFB"
   },
   "outputs": [],
   "source": [
    "# shuffle\n",
    "from sklearn.utils import shuffle\n",
    "new_df=shuffle(new_df)"
   ]
  },
  {
   "cell_type": "code",
   "execution_count": 30,
   "metadata": {
    "colab": {
     "base_uri": "https://localhost:8080/"
    },
    "id": "VolYhTHyXLFB",
    "outputId": "fee2aa1f-9e9c-464e-9c67-3f983cd8a018"
   },
   "outputs": [
    {
     "data": {
      "text/plain": [
       "0    8045\n",
       "1    8045\n",
       "Name: not.fully.paid, dtype: int64"
      ]
     },
     "execution_count": 30,
     "metadata": {},
     "output_type": "execute_result"
    }
   ],
   "source": [
    "new_df['not.fully.paid'].value_counts()"
   ]
  },
  {
   "cell_type": "code",
   "execution_count": 31,
   "metadata": {
    "colab": {
     "base_uri": "https://localhost:8080/"
    },
    "id": "s-C3CYALXLFB",
    "outputId": "d2ae4674-b763-4ff5-9774-a980eb086ce7"
   },
   "outputs": [
    {
     "data": {
      "text/plain": [
       "(16090, 14)"
      ]
     },
     "execution_count": 31,
     "metadata": {},
     "output_type": "execute_result"
    }
   ],
   "source": [
    "new_df.shape"
   ]
  },
  {
   "cell_type": "code",
   "execution_count": 32,
   "metadata": {
    "colab": {
     "base_uri": "https://localhost:8080/"
    },
    "id": "JDRpTXZnXLFC",
    "outputId": "73f22084-b953-4c4f-fa1b-30f675616f7f"
   },
   "outputs": [
    {
     "data": {
      "text/plain": [
       "credit.policy          int64\n",
       "purpose               object\n",
       "int.rate             float64\n",
       "installment          float64\n",
       "log.annual.inc       float64\n",
       "dti                  float64\n",
       "fico                   int64\n",
       "days.with.cr.line    float64\n",
       "revol.bal              int64\n",
       "revol.util           float64\n",
       "inq.last.6mths         int64\n",
       "delinq.2yrs            int64\n",
       "pub.rec                int64\n",
       "not.fully.paid         int64\n",
       "dtype: object"
      ]
     },
     "execution_count": 32,
     "metadata": {},
     "output_type": "execute_result"
    }
   ],
   "source": [
    "new_df.dtypes"
   ]
  },
  {
   "cell_type": "markdown",
   "metadata": {},
   "source": [
    "### Using LabelEncoder to perform Feature Transformation by converting the categorical values into numerical values."
   ]
  },
  {
   "cell_type": "code",
   "execution_count": 33,
   "metadata": {
    "id": "X7C1vH3oXLFD"
   },
   "outputs": [],
   "source": [
    "# convert purpose into num data\n",
    "from sklearn.preprocessing import LabelEncoder\n",
    "le=LabelEncoder()"
   ]
  },
  {
   "cell_type": "code",
   "execution_count": 34,
   "metadata": {
    "id": "w5Dqveb1XLFD"
   },
   "outputs": [],
   "source": [
    "for i in new_df.columns:\n",
    "    if new_df[i].dtypes=='object':\n",
    "        new_df[i]=le.fit_transform(new_df[i])"
   ]
  },
  {
   "cell_type": "code",
   "execution_count": 35,
   "metadata": {
    "colab": {
     "base_uri": "https://localhost:8080/"
    },
    "id": "44B9NZoZXLFD",
    "outputId": "2e727d77-eb76-470f-fc16-65d8de6a83b1"
   },
   "outputs": [
    {
     "data": {
      "text/plain": [
       "credit.policy          int64\n",
       "purpose                int32\n",
       "int.rate             float64\n",
       "installment          float64\n",
       "log.annual.inc       float64\n",
       "dti                  float64\n",
       "fico                   int64\n",
       "days.with.cr.line    float64\n",
       "revol.bal              int64\n",
       "revol.util           float64\n",
       "inq.last.6mths         int64\n",
       "delinq.2yrs            int64\n",
       "pub.rec                int64\n",
       "not.fully.paid         int64\n",
       "dtype: object"
      ]
     },
     "execution_count": 35,
     "metadata": {},
     "output_type": "execute_result"
    }
   ],
   "source": [
    "new_df.dtypes"
   ]
  },
  {
   "cell_type": "markdown",
   "metadata": {
    "id": "ft_TVO-jXLFE"
   },
   "source": [
    "### Additional Feature Engineering\n",
    "\n",
    "### Need to check the correlation between all features & will drop those features which have a strong correlation\n",
    "\n",
    "### This will help to reduce the number of features & will leave with the most relevant features."
   ]
  },
  {
   "cell_type": "code",
   "execution_count": 36,
   "metadata": {
    "colab": {
     "base_uri": "https://localhost:8080/",
     "height": 508
    },
    "id": "K1bM0XHhXLFE",
    "outputId": "ac8353a6-707a-4987-bfb7-ddb24a5daedb"
   },
   "outputs": [
    {
     "data": {
      "text/html": [
       "<div>\n",
       "<style scoped>\n",
       "    .dataframe tbody tr th:only-of-type {\n",
       "        vertical-align: middle;\n",
       "    }\n",
       "\n",
       "    .dataframe tbody tr th {\n",
       "        vertical-align: top;\n",
       "    }\n",
       "\n",
       "    .dataframe thead th {\n",
       "        text-align: right;\n",
       "    }\n",
       "</style>\n",
       "<table border=\"1\" class=\"dataframe\">\n",
       "  <thead>\n",
       "    <tr style=\"text-align: right;\">\n",
       "      <th></th>\n",
       "      <th>credit.policy</th>\n",
       "      <th>purpose</th>\n",
       "      <th>int.rate</th>\n",
       "      <th>installment</th>\n",
       "      <th>log.annual.inc</th>\n",
       "      <th>dti</th>\n",
       "      <th>fico</th>\n",
       "      <th>days.with.cr.line</th>\n",
       "      <th>revol.bal</th>\n",
       "      <th>revol.util</th>\n",
       "      <th>inq.last.6mths</th>\n",
       "      <th>delinq.2yrs</th>\n",
       "      <th>pub.rec</th>\n",
       "      <th>not.fully.paid</th>\n",
       "    </tr>\n",
       "  </thead>\n",
       "  <tbody>\n",
       "    <tr>\n",
       "      <th>credit.policy</th>\n",
       "      <td>1.000000</td>\n",
       "      <td>0.012819</td>\n",
       "      <td>-0.281133</td>\n",
       "      <td>0.057643</td>\n",
       "      <td>0.022957</td>\n",
       "      <td>-0.089764</td>\n",
       "      <td>0.376964</td>\n",
       "      <td>0.104494</td>\n",
       "      <td>-0.186621</td>\n",
       "      <td>-0.097121</td>\n",
       "      <td>-0.548261</td>\n",
       "      <td>-0.058617</td>\n",
       "      <td>-0.059581</td>\n",
       "      <td>-0.198948</td>\n",
       "    </tr>\n",
       "    <tr>\n",
       "      <th>purpose</th>\n",
       "      <td>0.012819</td>\n",
       "      <td>1.000000</td>\n",
       "      <td>0.153037</td>\n",
       "      <td>0.202618</td>\n",
       "      <td>0.118770</td>\n",
       "      <td>-0.040141</td>\n",
       "      <td>0.063894</td>\n",
       "      <td>0.060941</td>\n",
       "      <td>0.050805</td>\n",
       "      <td>-0.074617</td>\n",
       "      <td>0.043370</td>\n",
       "      <td>-0.003005</td>\n",
       "      <td>0.004688</td>\n",
       "      <td>0.058403</td>\n",
       "    </tr>\n",
       "    <tr>\n",
       "      <th>int.rate</th>\n",
       "      <td>-0.281133</td>\n",
       "      <td>0.153037</td>\n",
       "      <td>1.000000</td>\n",
       "      <td>0.276712</td>\n",
       "      <td>0.084610</td>\n",
       "      <td>0.206080</td>\n",
       "      <td>-0.685246</td>\n",
       "      <td>-0.104488</td>\n",
       "      <td>0.080539</td>\n",
       "      <td>0.423236</td>\n",
       "      <td>0.175648</td>\n",
       "      <td>0.148065</td>\n",
       "      <td>0.110993</td>\n",
       "      <td>0.215047</td>\n",
       "    </tr>\n",
       "    <tr>\n",
       "      <th>installment</th>\n",
       "      <td>0.057643</td>\n",
       "      <td>0.202618</td>\n",
       "      <td>0.276712</td>\n",
       "      <td>1.000000</td>\n",
       "      <td>0.477661</td>\n",
       "      <td>0.023006</td>\n",
       "      <td>0.095973</td>\n",
       "      <td>0.174049</td>\n",
       "      <td>0.257980</td>\n",
       "      <td>0.055020</td>\n",
       "      <td>-0.010936</td>\n",
       "      <td>-0.004405</td>\n",
       "      <td>-0.011076</td>\n",
       "      <td>0.062114</td>\n",
       "    </tr>\n",
       "    <tr>\n",
       "      <th>log.annual.inc</th>\n",
       "      <td>0.022957</td>\n",
       "      <td>0.118770</td>\n",
       "      <td>0.084610</td>\n",
       "      <td>0.477661</td>\n",
       "      <td>1.000000</td>\n",
       "      <td>-0.038630</td>\n",
       "      <td>0.099582</td>\n",
       "      <td>0.337939</td>\n",
       "      <td>0.403723</td>\n",
       "      <td>0.075415</td>\n",
       "      <td>0.037921</td>\n",
       "      <td>0.017088</td>\n",
       "      <td>0.019092</td>\n",
       "      <td>-0.047235</td>\n",
       "    </tr>\n",
       "    <tr>\n",
       "      <th>dti</th>\n",
       "      <td>-0.089764</td>\n",
       "      <td>-0.040141</td>\n",
       "      <td>0.206080</td>\n",
       "      <td>0.023006</td>\n",
       "      <td>-0.038630</td>\n",
       "      <td>1.000000</td>\n",
       "      <td>-0.224644</td>\n",
       "      <td>0.091962</td>\n",
       "      <td>0.189329</td>\n",
       "      <td>0.327599</td>\n",
       "      <td>0.026996</td>\n",
       "      <td>-0.020804</td>\n",
       "      <td>0.022769</td>\n",
       "      <td>0.050721</td>\n",
       "    </tr>\n",
       "    <tr>\n",
       "      <th>fico</th>\n",
       "      <td>0.376964</td>\n",
       "      <td>0.063894</td>\n",
       "      <td>-0.685246</td>\n",
       "      <td>0.095973</td>\n",
       "      <td>0.099582</td>\n",
       "      <td>-0.224644</td>\n",
       "      <td>1.000000</td>\n",
       "      <td>0.258221</td>\n",
       "      <td>0.009334</td>\n",
       "      <td>-0.501657</td>\n",
       "      <td>-0.188239</td>\n",
       "      <td>-0.207212</td>\n",
       "      <td>-0.160963</td>\n",
       "      <td>-0.206863</td>\n",
       "    </tr>\n",
       "    <tr>\n",
       "      <th>days.with.cr.line</th>\n",
       "      <td>0.104494</td>\n",
       "      <td>0.060941</td>\n",
       "      <td>-0.104488</td>\n",
       "      <td>0.174049</td>\n",
       "      <td>0.337939</td>\n",
       "      <td>0.091962</td>\n",
       "      <td>0.258221</td>\n",
       "      <td>1.000000</td>\n",
       "      <td>0.269405</td>\n",
       "      <td>0.016797</td>\n",
       "      <td>-0.019586</td>\n",
       "      <td>0.077249</td>\n",
       "      <td>0.071423</td>\n",
       "      <td>-0.040461</td>\n",
       "    </tr>\n",
       "    <tr>\n",
       "      <th>revol.bal</th>\n",
       "      <td>-0.186621</td>\n",
       "      <td>0.050805</td>\n",
       "      <td>0.080539</td>\n",
       "      <td>0.257980</td>\n",
       "      <td>0.403723</td>\n",
       "      <td>0.189329</td>\n",
       "      <td>0.009334</td>\n",
       "      <td>0.269405</td>\n",
       "      <td>1.000000</td>\n",
       "      <td>0.189338</td>\n",
       "      <td>0.014073</td>\n",
       "      <td>-0.032943</td>\n",
       "      <td>-0.039172</td>\n",
       "      <td>0.048107</td>\n",
       "    </tr>\n",
       "    <tr>\n",
       "      <th>revol.util</th>\n",
       "      <td>-0.097121</td>\n",
       "      <td>-0.074617</td>\n",
       "      <td>0.423236</td>\n",
       "      <td>0.055020</td>\n",
       "      <td>0.075415</td>\n",
       "      <td>0.327599</td>\n",
       "      <td>-0.501657</td>\n",
       "      <td>0.016797</td>\n",
       "      <td>0.189338</td>\n",
       "      <td>1.000000</td>\n",
       "      <td>-0.027680</td>\n",
       "      <td>-0.046589</td>\n",
       "      <td>0.079339</td>\n",
       "      <td>0.101615</td>\n",
       "    </tr>\n",
       "    <tr>\n",
       "      <th>inq.last.6mths</th>\n",
       "      <td>-0.548261</td>\n",
       "      <td>0.043370</td>\n",
       "      <td>0.175648</td>\n",
       "      <td>-0.010936</td>\n",
       "      <td>0.037921</td>\n",
       "      <td>0.026996</td>\n",
       "      <td>-0.188239</td>\n",
       "      <td>-0.019586</td>\n",
       "      <td>0.014073</td>\n",
       "      <td>-0.027680</td>\n",
       "      <td>1.000000</td>\n",
       "      <td>0.026838</td>\n",
       "      <td>0.105057</td>\n",
       "      <td>0.175383</td>\n",
       "    </tr>\n",
       "    <tr>\n",
       "      <th>delinq.2yrs</th>\n",
       "      <td>-0.058617</td>\n",
       "      <td>-0.003005</td>\n",
       "      <td>0.148065</td>\n",
       "      <td>-0.004405</td>\n",
       "      <td>0.017088</td>\n",
       "      <td>-0.020804</td>\n",
       "      <td>-0.207212</td>\n",
       "      <td>0.077249</td>\n",
       "      <td>-0.032943</td>\n",
       "      <td>-0.046589</td>\n",
       "      <td>0.026838</td>\n",
       "      <td>1.000000</td>\n",
       "      <td>-0.006084</td>\n",
       "      <td>0.012862</td>\n",
       "    </tr>\n",
       "    <tr>\n",
       "      <th>pub.rec</th>\n",
       "      <td>-0.059581</td>\n",
       "      <td>0.004688</td>\n",
       "      <td>0.110993</td>\n",
       "      <td>-0.011076</td>\n",
       "      <td>0.019092</td>\n",
       "      <td>0.022769</td>\n",
       "      <td>-0.160963</td>\n",
       "      <td>0.071423</td>\n",
       "      <td>-0.039172</td>\n",
       "      <td>0.079339</td>\n",
       "      <td>0.105057</td>\n",
       "      <td>-0.006084</td>\n",
       "      <td>1.000000</td>\n",
       "      <td>0.073023</td>\n",
       "    </tr>\n",
       "    <tr>\n",
       "      <th>not.fully.paid</th>\n",
       "      <td>-0.198948</td>\n",
       "      <td>0.058403</td>\n",
       "      <td>0.215047</td>\n",
       "      <td>0.062114</td>\n",
       "      <td>-0.047235</td>\n",
       "      <td>0.050721</td>\n",
       "      <td>-0.206863</td>\n",
       "      <td>-0.040461</td>\n",
       "      <td>0.048107</td>\n",
       "      <td>0.101615</td>\n",
       "      <td>0.175383</td>\n",
       "      <td>0.012862</td>\n",
       "      <td>0.073023</td>\n",
       "      <td>1.000000</td>\n",
       "    </tr>\n",
       "  </tbody>\n",
       "</table>\n",
       "</div>"
      ],
      "text/plain": [
       "                   credit.policy   purpose  int.rate  installment  \\\n",
       "credit.policy           1.000000  0.012819 -0.281133     0.057643   \n",
       "purpose                 0.012819  1.000000  0.153037     0.202618   \n",
       "int.rate               -0.281133  0.153037  1.000000     0.276712   \n",
       "installment             0.057643  0.202618  0.276712     1.000000   \n",
       "log.annual.inc          0.022957  0.118770  0.084610     0.477661   \n",
       "dti                    -0.089764 -0.040141  0.206080     0.023006   \n",
       "fico                    0.376964  0.063894 -0.685246     0.095973   \n",
       "days.with.cr.line       0.104494  0.060941 -0.104488     0.174049   \n",
       "revol.bal              -0.186621  0.050805  0.080539     0.257980   \n",
       "revol.util             -0.097121 -0.074617  0.423236     0.055020   \n",
       "inq.last.6mths         -0.548261  0.043370  0.175648    -0.010936   \n",
       "delinq.2yrs            -0.058617 -0.003005  0.148065    -0.004405   \n",
       "pub.rec                -0.059581  0.004688  0.110993    -0.011076   \n",
       "not.fully.paid         -0.198948  0.058403  0.215047     0.062114   \n",
       "\n",
       "                   log.annual.inc       dti      fico  days.with.cr.line  \\\n",
       "credit.policy            0.022957 -0.089764  0.376964           0.104494   \n",
       "purpose                  0.118770 -0.040141  0.063894           0.060941   \n",
       "int.rate                 0.084610  0.206080 -0.685246          -0.104488   \n",
       "installment              0.477661  0.023006  0.095973           0.174049   \n",
       "log.annual.inc           1.000000 -0.038630  0.099582           0.337939   \n",
       "dti                     -0.038630  1.000000 -0.224644           0.091962   \n",
       "fico                     0.099582 -0.224644  1.000000           0.258221   \n",
       "days.with.cr.line        0.337939  0.091962  0.258221           1.000000   \n",
       "revol.bal                0.403723  0.189329  0.009334           0.269405   \n",
       "revol.util               0.075415  0.327599 -0.501657           0.016797   \n",
       "inq.last.6mths           0.037921  0.026996 -0.188239          -0.019586   \n",
       "delinq.2yrs              0.017088 -0.020804 -0.207212           0.077249   \n",
       "pub.rec                  0.019092  0.022769 -0.160963           0.071423   \n",
       "not.fully.paid          -0.047235  0.050721 -0.206863          -0.040461   \n",
       "\n",
       "                   revol.bal  revol.util  inq.last.6mths  delinq.2yrs  \\\n",
       "credit.policy      -0.186621   -0.097121       -0.548261    -0.058617   \n",
       "purpose             0.050805   -0.074617        0.043370    -0.003005   \n",
       "int.rate            0.080539    0.423236        0.175648     0.148065   \n",
       "installment         0.257980    0.055020       -0.010936    -0.004405   \n",
       "log.annual.inc      0.403723    0.075415        0.037921     0.017088   \n",
       "dti                 0.189329    0.327599        0.026996    -0.020804   \n",
       "fico                0.009334   -0.501657       -0.188239    -0.207212   \n",
       "days.with.cr.line   0.269405    0.016797       -0.019586     0.077249   \n",
       "revol.bal           1.000000    0.189338        0.014073    -0.032943   \n",
       "revol.util          0.189338    1.000000       -0.027680    -0.046589   \n",
       "inq.last.6mths      0.014073   -0.027680        1.000000     0.026838   \n",
       "delinq.2yrs        -0.032943   -0.046589        0.026838     1.000000   \n",
       "pub.rec            -0.039172    0.079339        0.105057    -0.006084   \n",
       "not.fully.paid      0.048107    0.101615        0.175383     0.012862   \n",
       "\n",
       "                    pub.rec  not.fully.paid  \n",
       "credit.policy     -0.059581       -0.198948  \n",
       "purpose            0.004688        0.058403  \n",
       "int.rate           0.110993        0.215047  \n",
       "installment       -0.011076        0.062114  \n",
       "log.annual.inc     0.019092       -0.047235  \n",
       "dti                0.022769        0.050721  \n",
       "fico              -0.160963       -0.206863  \n",
       "days.with.cr.line  0.071423       -0.040461  \n",
       "revol.bal         -0.039172        0.048107  \n",
       "revol.util         0.079339        0.101615  \n",
       "inq.last.6mths     0.105057        0.175383  \n",
       "delinq.2yrs       -0.006084        0.012862  \n",
       "pub.rec            1.000000        0.073023  \n",
       "not.fully.paid     0.073023        1.000000  "
      ]
     },
     "execution_count": 36,
     "metadata": {},
     "output_type": "execute_result"
    }
   ],
   "source": [
    "new_df.corr().transpose()"
   ]
  },
  {
   "cell_type": "code",
   "execution_count": 83,
   "metadata": {
    "colab": {
     "base_uri": "https://localhost:8080/",
     "height": 720
    },
    "id": "hFg5KzgfXLFF",
    "outputId": "517dbcb9-dbea-4c98-e56b-7cdaf13236d5"
   },
   "outputs": [
    {
     "data": {
      "image/png": "[encoded data removed]",
      "text/plain": [
       "<Figure size 1100x700 with 2 Axes>"
      ]
     },
     "metadata": {},
     "output_type": "display_data"
    }
   ],
   "source": [
    "plt.figure(figsize=(11,7))\n",
    "sns.heatmap(new_df.corr(),annot=True)\n",
    "plt.savefig('heatmap.png')\n",
    "plt.show()"
   ]
  },
  {
   "cell_type": "code",
   "execution_count": 38,
   "metadata": {
    "colab": {
     "base_uri": "https://localhost:8080/"
    },
    "id": "jQXIyZioXLFF",
    "outputId": "cb58a2a9-ff5f-44ea-d55c-23451742dab1"
   },
   "outputs": [
    {
     "data": {
      "text/plain": [
       "not.fully.paid       1.000000\n",
       "int.rate             0.215047\n",
       "fico                 0.206863\n",
       "credit.policy        0.198948\n",
       "inq.last.6mths       0.175383\n",
       "revol.util           0.101615\n",
       "pub.rec              0.073023\n",
       "installment          0.062114\n",
       "purpose              0.058403\n",
       "dti                  0.050721\n",
       "revol.bal            0.048107\n",
       "log.annual.inc       0.047235\n",
       "days.with.cr.line    0.040461\n",
       "delinq.2yrs          0.012862\n",
       "Name: not.fully.paid, dtype: float64"
      ]
     },
     "execution_count": 38,
     "metadata": {},
     "output_type": "execute_result"
    }
   ],
   "source": [
    "# see the sorted results\n",
    "new_df.corr().abs()['not.fully.paid'].sort_values(ascending=False)"
   ]
  },
  {
   "cell_type": "code",
   "execution_count": 39,
   "metadata": {
    "colab": {
     "base_uri": "https://localhost:8080/"
    },
    "id": "9o25SAPzXLFG",
    "outputId": "afda220f-1de3-4590-875c-14a37de2f8f9"
   },
   "outputs": [
    {
     "data": {
      "text/plain": [
       "Index(['credit.policy', 'purpose', 'int.rate', 'installment', 'log.annual.inc',\n",
       "       'dti', 'fico', 'days.with.cr.line', 'revol.bal', 'revol.util',\n",
       "       'inq.last.6mths', 'delinq.2yrs', 'pub.rec', 'not.fully.paid'],\n",
       "      dtype='object')"
      ]
     },
     "execution_count": 39,
     "metadata": {},
     "output_type": "execute_result"
    }
   ],
   "source": [
    "new_df.columns"
   ]
  },
  {
   "cell_type": "markdown",
   "metadata": {},
   "source": [
    "### We are dropping few columns with highest corelation and keeping only limited columns"
   ]
  },
  {
   "cell_type": "code",
   "execution_count": 42,
   "metadata": {
    "id": "FM2fCzRaXLFG"
   },
   "outputs": [],
   "source": [
    "# take columns\n",
    "X=new_df[['credit.policy','purpose', 'int.rate', 'installment','fico','revol.bal','revol.util','inq.last.6mths','pub.rec']]"
   ]
  },
  {
   "cell_type": "code",
   "execution_count": 43,
   "metadata": {
    "colab": {
     "base_uri": "https://localhost:8080/"
    },
    "id": "Le7r_0-kXLFH",
    "outputId": "4d705105-7fe2-4344-b1bf-abc24829e48f"
   },
   "outputs": [
    {
     "data": {
      "text/plain": [
       "(16090, 9)"
      ]
     },
     "execution_count": 43,
     "metadata": {},
     "output_type": "execute_result"
    }
   ],
   "source": [
    "X.shape"
   ]
  },
  {
   "cell_type": "code",
   "execution_count": 44,
   "metadata": {
    "id": "ZyoxZf2JXLFI"
   },
   "outputs": [],
   "source": [
    "y=new_df['not.fully.paid']"
   ]
  },
  {
   "cell_type": "code",
   "execution_count": 45,
   "metadata": {
    "id": "ZFkLvoKCXLFI"
   },
   "outputs": [],
   "source": [
    "# Create train set & test set\n",
    "from sklearn.model_selection import train_test_split\n",
    "X_train,X_test,y_train,y_test=train_test_split(X,y,test_size=.2,random_state=42)"
   ]
  },
  {
   "cell_type": "code",
   "execution_count": 46,
   "metadata": {
    "colab": {
     "base_uri": "https://localhost:8080/"
    },
    "id": "RLRLOt0hXLFh",
    "outputId": "9c3c04b1-9249-40a9-8644-f199f5a30150"
   },
   "outputs": [
    {
     "data": {
      "text/plain": [
       "(12872, 9)"
      ]
     },
     "execution_count": 46,
     "metadata": {},
     "output_type": "execute_result"
    }
   ],
   "source": [
    "X_train.shape"
   ]
  },
  {
   "cell_type": "code",
   "execution_count": 47,
   "metadata": {
    "colab": {
     "base_uri": "https://localhost:8080/"
    },
    "id": "eu3HABWQXLFi",
    "outputId": "07dd1a58-128d-4152-e019-22a7aba2519b"
   },
   "outputs": [
    {
     "data": {
      "text/plain": [
       "(3218, 9)"
      ]
     },
     "execution_count": 47,
     "metadata": {},
     "output_type": "execute_result"
    }
   ],
   "source": [
    "X_test.shape"
   ]
  },
  {
   "cell_type": "code",
   "execution_count": 48,
   "metadata": {
    "colab": {
     "base_uri": "https://localhost:8080/",
     "height": 423
    },
    "id": "tXd5C7BCXLFj",
    "outputId": "4af1e7cb-a928-4b35-ce44-501731e6b00e",
    "tags": []
   },
   "outputs": [
    {
     "data": {
      "text/html": [
       "<div>\n",
       "<style scoped>\n",
       "    .dataframe tbody tr th:only-of-type {\n",
       "        vertical-align: middle;\n",
       "    }\n",
       "\n",
       "    .dataframe tbody tr th {\n",
       "        vertical-align: top;\n",
       "    }\n",
       "\n",
       "    .dataframe thead th {\n",
       "        text-align: right;\n",
       "    }\n",
       "</style>\n",
       "<table border=\"1\" class=\"dataframe\">\n",
       "  <thead>\n",
       "    <tr style=\"text-align: right;\">\n",
       "      <th></th>\n",
       "      <th>credit.policy</th>\n",
       "      <th>purpose</th>\n",
       "      <th>int.rate</th>\n",
       "      <th>installment</th>\n",
       "      <th>fico</th>\n",
       "      <th>revol.bal</th>\n",
       "      <th>revol.util</th>\n",
       "      <th>inq.last.6mths</th>\n",
       "      <th>pub.rec</th>\n",
       "    </tr>\n",
       "  </thead>\n",
       "  <tbody>\n",
       "    <tr>\n",
       "      <th>1577</th>\n",
       "      <td>1</td>\n",
       "      <td>1</td>\n",
       "      <td>0.0907</td>\n",
       "      <td>458.39</td>\n",
       "      <td>792</td>\n",
       "      <td>4658</td>\n",
       "      <td>10.7</td>\n",
       "      <td>0</td>\n",
       "      <td>0</td>\n",
       "    </tr>\n",
       "    <tr>\n",
       "      <th>1459</th>\n",
       "      <td>1</td>\n",
       "      <td>5</td>\n",
       "      <td>0.1148</td>\n",
       "      <td>725.31</td>\n",
       "      <td>762</td>\n",
       "      <td>6628</td>\n",
       "      <td>7.3</td>\n",
       "      <td>1</td>\n",
       "      <td>0</td>\n",
       "    </tr>\n",
       "    <tr>\n",
       "      <th>883</th>\n",
       "      <td>1</td>\n",
       "      <td>1</td>\n",
       "      <td>0.1450</td>\n",
       "      <td>640.24</td>\n",
       "      <td>682</td>\n",
       "      <td>32682</td>\n",
       "      <td>96.1</td>\n",
       "      <td>0</td>\n",
       "      <td>0</td>\n",
       "    </tr>\n",
       "    <tr>\n",
       "      <th>7255</th>\n",
       "      <td>1</td>\n",
       "      <td>0</td>\n",
       "      <td>0.1422</td>\n",
       "      <td>548.55</td>\n",
       "      <td>707</td>\n",
       "      <td>33113</td>\n",
       "      <td>97.4</td>\n",
       "      <td>2</td>\n",
       "      <td>0</td>\n",
       "    </tr>\n",
       "    <tr>\n",
       "      <th>2939</th>\n",
       "      <td>1</td>\n",
       "      <td>2</td>\n",
       "      <td>0.1600</td>\n",
       "      <td>285.66</td>\n",
       "      <td>702</td>\n",
       "      <td>21438</td>\n",
       "      <td>90.6</td>\n",
       "      <td>1</td>\n",
       "      <td>1</td>\n",
       "    </tr>\n",
       "    <tr>\n",
       "      <th>...</th>\n",
       "      <td>...</td>\n",
       "      <td>...</td>\n",
       "      <td>...</td>\n",
       "      <td>...</td>\n",
       "      <td>...</td>\n",
       "      <td>...</td>\n",
       "      <td>...</td>\n",
       "      <td>...</td>\n",
       "      <td>...</td>\n",
       "    </tr>\n",
       "    <tr>\n",
       "      <th>6202</th>\n",
       "      <td>1</td>\n",
       "      <td>6</td>\n",
       "      <td>0.2121</td>\n",
       "      <td>755.69</td>\n",
       "      <td>672</td>\n",
       "      <td>500</td>\n",
       "      <td>83.3</td>\n",
       "      <td>1</td>\n",
       "      <td>0</td>\n",
       "    </tr>\n",
       "    <tr>\n",
       "      <th>7318</th>\n",
       "      <td>1</td>\n",
       "      <td>5</td>\n",
       "      <td>0.1422</td>\n",
       "      <td>368.56</td>\n",
       "      <td>677</td>\n",
       "      <td>7634</td>\n",
       "      <td>50.9</td>\n",
       "      <td>0</td>\n",
       "      <td>0</td>\n",
       "    </tr>\n",
       "    <tr>\n",
       "      <th>8580</th>\n",
       "      <td>0</td>\n",
       "      <td>2</td>\n",
       "      <td>0.1134</td>\n",
       "      <td>119.27</td>\n",
       "      <td>687</td>\n",
       "      <td>82141</td>\n",
       "      <td>91.8</td>\n",
       "      <td>3</td>\n",
       "      <td>0</td>\n",
       "    </tr>\n",
       "    <tr>\n",
       "      <th>2178</th>\n",
       "      <td>1</td>\n",
       "      <td>2</td>\n",
       "      <td>0.1411</td>\n",
       "      <td>219.07</td>\n",
       "      <td>692</td>\n",
       "      <td>8959</td>\n",
       "      <td>90.5</td>\n",
       "      <td>0</td>\n",
       "      <td>0</td>\n",
       "    </tr>\n",
       "    <tr>\n",
       "      <th>5781</th>\n",
       "      <td>1</td>\n",
       "      <td>0</td>\n",
       "      <td>0.1322</td>\n",
       "      <td>135.21</td>\n",
       "      <td>702</td>\n",
       "      <td>1291</td>\n",
       "      <td>47.8</td>\n",
       "      <td>0</td>\n",
       "      <td>0</td>\n",
       "    </tr>\n",
       "  </tbody>\n",
       "</table>\n",
       "<p>12872 rows × 9 columns</p>\n",
       "</div>"
      ],
      "text/plain": [
       "      credit.policy  purpose  int.rate  installment  fico  revol.bal  \\\n",
       "1577              1        1    0.0907       458.39   792       4658   \n",
       "1459              1        5    0.1148       725.31   762       6628   \n",
       "883               1        1    0.1450       640.24   682      32682   \n",
       "7255              1        0    0.1422       548.55   707      33113   \n",
       "2939              1        2    0.1600       285.66   702      21438   \n",
       "...             ...      ...       ...          ...   ...        ...   \n",
       "6202              1        6    0.2121       755.69   672        500   \n",
       "7318              1        5    0.1422       368.56   677       7634   \n",
       "8580              0        2    0.1134       119.27   687      82141   \n",
       "2178              1        2    0.1411       219.07   692       8959   \n",
       "5781              1        0    0.1322       135.21   702       1291   \n",
       "\n",
       "      revol.util  inq.last.6mths  pub.rec  \n",
       "1577        10.7               0        0  \n",
       "1459         7.3               1        0  \n",
       "883         96.1               0        0  \n",
       "7255        97.4               2        0  \n",
       "2939        90.6               1        1  \n",
       "...          ...             ...      ...  \n",
       "6202        83.3               1        0  \n",
       "7318        50.9               0        0  \n",
       "8580        91.8               3        0  \n",
       "2178        90.5               0        0  \n",
       "5781        47.8               0        0  \n",
       "\n",
       "[12872 rows x 9 columns]"
      ]
     },
     "execution_count": 48,
     "metadata": {},
     "output_type": "execute_result"
    }
   ],
   "source": [
    "X_train"
   ]
  },
  {
   "cell_type": "code",
   "execution_count": 49,
   "metadata": {
    "id": "5xvGdUoDXLFk"
   },
   "outputs": [],
   "source": [
    "# Apply scaling\n",
    "from sklearn.preprocessing import StandardScaler\n",
    "sc=StandardScaler()"
   ]
  },
  {
   "cell_type": "code",
   "execution_count": 50,
   "metadata": {
    "id": "01l03m_gXLFl"
   },
   "outputs": [],
   "source": [
    "X_train=sc.fit_transform(X_train)\n",
    "X_test=sc.transform(X_test)"
   ]
  },
  {
   "cell_type": "markdown",
   "metadata": {
    "id": "TjE7VuSLXLFl"
   },
   "source": [
    "### Create a deep learning model using Keras with Tensorflow backend"
   ]
  },
  {
   "cell_type": "code",
   "execution_count": 51,
   "metadata": {
    "id": "4cKZdQSOXLFl"
   },
   "outputs": [],
   "source": [
    "from tensorflow.keras.models import Sequential\n",
    "from tensorflow.keras.layers import Dense,Dropout\n",
    "from tensorflow.keras.callbacks import EarlyStopping"
   ]
  },
  {
   "cell_type": "code",
   "execution_count": 52,
   "metadata": {
    "id": "EsNxNsCRXLFl"
   },
   "outputs": [],
   "source": [
    "# create the architecture\n",
    "# 2 ANN layer\n",
    "model=Sequential()\n",
    "model.add(Dense(19,activation='relu',input_shape=[9]))\n",
    "model.add(Dropout(0.20))\n",
    "\n",
    "\n",
    "model.add(Dense(10,activation='relu'))\n",
    "model.add(Dropout(0.20))\n",
    "\n",
    "# output layer\n",
    "model.add(Dense(1,activation='sigmoid'))"
   ]
  },
  {
   "cell_type": "code",
   "execution_count": 53,
   "metadata": {
    "colab": {
     "base_uri": "https://localhost:8080/"
    },
    "id": "Aw7bg-nvXLFl",
    "outputId": "e90edcb0-5582-4a88-8daa-ea5311909f96"
   },
   "outputs": [
    {
     "name": "stdout",
     "output_type": "stream",
     "text": [
      "Model: \"sequential\"\n",
      "_________________________________________________________________\n",
      " Layer (type)                Output Shape              Param #   \n",
      "=================================================================\n",
      " dense (Dense)               (None, 19)                190       \n",
      "                                                                 \n",
      " dropout (Dropout)           (None, 19)                0         \n",
      "                                                                 \n",
      " dense_1 (Dense)             (None, 10)                200       \n",
      "                                                                 \n",
      " dropout_1 (Dropout)         (None, 10)                0         \n",
      "                                                                 \n",
      " dense_2 (Dense)             (None, 1)                 11        \n",
      "                                                                 \n",
      "=================================================================\n",
      "Total params: 401 (1.57 KB)\n",
      "Trainable params: 401 (1.57 KB)\n",
      "Non-trainable params: 0 (0.00 Byte)\n",
      "_________________________________________________________________\n"
     ]
    }
   ],
   "source": [
    "model.summary()"
   ]
  },
  {
   "cell_type": "code",
   "execution_count": 54,
   "metadata": {
    "id": "MiUhX8aLXLFm"
   },
   "outputs": [],
   "source": [
    "# compile the model\n",
    "model.compile(loss='binary_crossentropy',optimizer='adam',metrics=['accuracy'])"
   ]
  },
  {
   "cell_type": "code",
   "execution_count": 55,
   "metadata": {
    "id": "-zAUnOYyXLFm"
   },
   "outputs": [],
   "source": [
    "early_stop=EarlyStopping(monitor='val_loss',min_delta=0.001,mode='min',patience=10,verbose=1)"
   ]
  },
  {
   "cell_type": "code",
   "execution_count": 58,
   "metadata": {
    "colab": {
     "base_uri": "https://localhost:8080/"
    },
    "id": "bhm4BYbDXLFn",
    "outputId": "d3a56291-ec50-4a6f-90a8-0870da87082d"
   },
   "outputs": [
    {
     "name": "stdout",
     "output_type": "stream",
     "text": [
      "Epoch 1/50\n",
      "51/51 [==============================] - 0s 4ms/step - loss: 0.6404 - accuracy: 0.6302 - val_loss: 0.6480 - val_accuracy: 0.6168\n",
      "Epoch 2/50\n",
      "51/51 [==============================] - 0s 3ms/step - loss: 0.6420 - accuracy: 0.6273 - val_loss: 0.6479 - val_accuracy: 0.6190\n",
      "Epoch 3/50\n",
      "51/51 [==============================] - 0s 2ms/step - loss: 0.6399 - accuracy: 0.6281 - val_loss: 0.6481 - val_accuracy: 0.6200\n",
      "Epoch 4/50\n",
      "51/51 [==============================] - 0s 3ms/step - loss: 0.6423 - accuracy: 0.6265 - val_loss: 0.6480 - val_accuracy: 0.6215\n",
      "Epoch 5/50\n",
      "51/51 [==============================] - 0s 3ms/step - loss: 0.6419 - accuracy: 0.6283 - val_loss: 0.6478 - val_accuracy: 0.6215\n",
      "Epoch 6/50\n",
      "51/51 [==============================] - 0s 3ms/step - loss: 0.6421 - accuracy: 0.6260 - val_loss: 0.6480 - val_accuracy: 0.6165\n",
      "Epoch 7/50\n",
      "51/51 [==============================] - 0s 3ms/step - loss: 0.6405 - accuracy: 0.6284 - val_loss: 0.6479 - val_accuracy: 0.6172\n",
      "Epoch 8/50\n",
      "51/51 [==============================] - 0s 3ms/step - loss: 0.6380 - accuracy: 0.6315 - val_loss: 0.6473 - val_accuracy: 0.6193\n",
      "Epoch 9/50\n",
      "51/51 [==============================] - 0s 3ms/step - loss: 0.6433 - accuracy: 0.6293 - val_loss: 0.6473 - val_accuracy: 0.6196\n",
      "Epoch 10/50\n",
      "51/51 [==============================] - 0s 3ms/step - loss: 0.6400 - accuracy: 0.6280 - val_loss: 0.6473 - val_accuracy: 0.6212\n",
      "Epoch 11/50\n",
      "51/51 [==============================] - 0s 4ms/step - loss: 0.6400 - accuracy: 0.6312 - val_loss: 0.6470 - val_accuracy: 0.6240\n",
      "Epoch 12/50\n",
      "51/51 [==============================] - 0s 3ms/step - loss: 0.6400 - accuracy: 0.6280 - val_loss: 0.6468 - val_accuracy: 0.6287\n",
      "Epoch 13/50\n",
      "51/51 [==============================] - 0s 3ms/step - loss: 0.6417 - accuracy: 0.6269 - val_loss: 0.6471 - val_accuracy: 0.6240\n",
      "Epoch 14/50\n",
      "51/51 [==============================] - 0s 3ms/step - loss: 0.6392 - accuracy: 0.6259 - val_loss: 0.6470 - val_accuracy: 0.6255\n",
      "Epoch 15/50\n",
      "51/51 [==============================] - 0s 3ms/step - loss: 0.6382 - accuracy: 0.6298 - val_loss: 0.6468 - val_accuracy: 0.6237\n",
      "Epoch 16/50\n",
      "51/51 [==============================] - 0s 3ms/step - loss: 0.6407 - accuracy: 0.6255 - val_loss: 0.6466 - val_accuracy: 0.6255\n",
      "Epoch 17/50\n",
      "51/51 [==============================] - 0s 4ms/step - loss: 0.6383 - accuracy: 0.6300 - val_loss: 0.6466 - val_accuracy: 0.6237\n",
      "Epoch 18/50\n",
      "51/51 [==============================] - 0s 4ms/step - loss: 0.6400 - accuracy: 0.6310 - val_loss: 0.6461 - val_accuracy: 0.6249\n",
      "Epoch 19/50\n",
      "51/51 [==============================] - 0s 4ms/step - loss: 0.6391 - accuracy: 0.6293 - val_loss: 0.6464 - val_accuracy: 0.6259\n",
      "Epoch 20/50\n",
      "51/51 [==============================] - 0s 3ms/step - loss: 0.6387 - accuracy: 0.6311 - val_loss: 0.6464 - val_accuracy: 0.6283\n",
      "Epoch 21/50\n",
      "51/51 [==============================] - 0s 3ms/step - loss: 0.6382 - accuracy: 0.6312 - val_loss: 0.6462 - val_accuracy: 0.6277\n",
      "Epoch 21: early stopping\n"
     ]
    },
    {
     "data": {
      "text/plain": [
       "<keras.src.callbacks.History at 0x172d5572bc0>"
      ]
     },
     "execution_count": 58,
     "metadata": {},
     "output_type": "execute_result"
    }
   ],
   "source": [
    "model.fit(X_train,y_train,\n",
    "          epochs=50,\n",
    "          batch_size=256,\n",
    "          validation_data=(X_test,y_test),\n",
    "          callbacks=[early_stop])"
   ]
  },
  {
   "cell_type": "code",
   "execution_count": 59,
   "metadata": {
    "colab": {
     "base_uri": "https://localhost:8080/"
    },
    "id": "Pv6f6CD0XLFn",
    "outputId": "466fea79-efd7-45bc-f965-e53db6aa6368",
    "tags": []
   },
   "outputs": [
    {
     "name": "stdout",
     "output_type": "stream",
     "text": [
      "Epoch 1/50\n",
      "51/51 [==============================] - 0s 3ms/step - loss: 0.6388 - accuracy: 0.6315 - val_loss: 0.6463 - val_accuracy: 0.6243\n",
      "Epoch 2/50\n",
      "51/51 [==============================] - 0s 3ms/step - loss: 0.6396 - accuracy: 0.6328 - val_loss: 0.6458 - val_accuracy: 0.6280\n",
      "Epoch 3/50\n",
      "51/51 [==============================] - 0s 3ms/step - loss: 0.6383 - accuracy: 0.6325 - val_loss: 0.6465 - val_accuracy: 0.6271\n",
      "Epoch 4/50\n",
      "51/51 [==============================] - 0s 3ms/step - loss: 0.6421 - accuracy: 0.6239 - val_loss: 0.6461 - val_accuracy: 0.6249\n",
      "Epoch 5/50\n",
      "51/51 [==============================] - 0s 3ms/step - loss: 0.6391 - accuracy: 0.6306 - val_loss: 0.6461 - val_accuracy: 0.6252\n",
      "Epoch 6/50\n",
      "51/51 [==============================] - 0s 3ms/step - loss: 0.6363 - accuracy: 0.6304 - val_loss: 0.6459 - val_accuracy: 0.6265\n",
      "Epoch 7/50\n",
      "51/51 [==============================] - 0s 3ms/step - loss: 0.6386 - accuracy: 0.6295 - val_loss: 0.6458 - val_accuracy: 0.6283\n",
      "Epoch 8/50\n",
      "51/51 [==============================] - 0s 3ms/step - loss: 0.6387 - accuracy: 0.6316 - val_loss: 0.6459 - val_accuracy: 0.6255\n",
      "Epoch 9/50\n",
      "51/51 [==============================] - 0s 3ms/step - loss: 0.6377 - accuracy: 0.6325 - val_loss: 0.6459 - val_accuracy: 0.6227\n",
      "Epoch 10/50\n",
      "51/51 [==============================] - 0s 3ms/step - loss: 0.6400 - accuracy: 0.6333 - val_loss: 0.6455 - val_accuracy: 0.6287\n",
      "Epoch 11/50\n",
      "51/51 [==============================] - 0s 3ms/step - loss: 0.6373 - accuracy: 0.6321 - val_loss: 0.6454 - val_accuracy: 0.6268\n",
      "Epoch 12/50\n",
      "51/51 [==============================] - 0s 3ms/step - loss: 0.6384 - accuracy: 0.6312 - val_loss: 0.6453 - val_accuracy: 0.6255\n",
      "Epoch 13/50\n",
      "51/51 [==============================] - 0s 3ms/step - loss: 0.6375 - accuracy: 0.6296 - val_loss: 0.6457 - val_accuracy: 0.6259\n",
      "Epoch 14/50\n",
      "51/51 [==============================] - 0s 4ms/step - loss: 0.6385 - accuracy: 0.6294 - val_loss: 0.6451 - val_accuracy: 0.6299\n",
      "Epoch 15/50\n",
      "51/51 [==============================] - 0s 5ms/step - loss: 0.6379 - accuracy: 0.6328 - val_loss: 0.6449 - val_accuracy: 0.6274\n",
      "Epoch 16/50\n",
      "51/51 [==============================] - 0s 4ms/step - loss: 0.6377 - accuracy: 0.6345 - val_loss: 0.6450 - val_accuracy: 0.6305\n",
      "Epoch 17/50\n",
      "51/51 [==============================] - 0s 4ms/step - loss: 0.6368 - accuracy: 0.6321 - val_loss: 0.6449 - val_accuracy: 0.6318\n",
      "Epoch 18/50\n",
      "51/51 [==============================] - 0s 4ms/step - loss: 0.6379 - accuracy: 0.6319 - val_loss: 0.6449 - val_accuracy: 0.6302\n",
      "Epoch 19/50\n",
      "51/51 [==============================] - 0s 4ms/step - loss: 0.6373 - accuracy: 0.6357 - val_loss: 0.6450 - val_accuracy: 0.6255\n",
      "Epoch 20/50\n",
      "51/51 [==============================] - 0s 4ms/step - loss: 0.6360 - accuracy: 0.6315 - val_loss: 0.6447 - val_accuracy: 0.6252\n",
      "Epoch 21/50\n",
      "51/51 [==============================] - 0s 4ms/step - loss: 0.6381 - accuracy: 0.6346 - val_loss: 0.6445 - val_accuracy: 0.6287\n",
      "Epoch 22/50\n",
      "51/51 [==============================] - 0s 4ms/step - loss: 0.6375 - accuracy: 0.6346 - val_loss: 0.6449 - val_accuracy: 0.6277\n",
      "Epoch 23/50\n",
      "51/51 [==============================] - 0s 3ms/step - loss: 0.6384 - accuracy: 0.6305 - val_loss: 0.6445 - val_accuracy: 0.6352\n",
      "Epoch 24/50\n",
      "51/51 [==============================] - 0s 3ms/step - loss: 0.6368 - accuracy: 0.6311 - val_loss: 0.6447 - val_accuracy: 0.6305\n",
      "Epoch 25/50\n",
      "51/51 [==============================] - 0s 3ms/step - loss: 0.6365 - accuracy: 0.6364 - val_loss: 0.6445 - val_accuracy: 0.6314\n",
      "Epoch 26/50\n",
      "51/51 [==============================] - 0s 3ms/step - loss: 0.6385 - accuracy: 0.6318 - val_loss: 0.6442 - val_accuracy: 0.6305\n",
      "Epoch 27/50\n",
      "51/51 [==============================] - 0s 3ms/step - loss: 0.6372 - accuracy: 0.6341 - val_loss: 0.6443 - val_accuracy: 0.6364\n",
      "Epoch 28/50\n",
      "51/51 [==============================] - 0s 3ms/step - loss: 0.6372 - accuracy: 0.6349 - val_loss: 0.6442 - val_accuracy: 0.6380\n",
      "Epoch 29/50\n",
      "51/51 [==============================] - 0s 4ms/step - loss: 0.6362 - accuracy: 0.6309 - val_loss: 0.6442 - val_accuracy: 0.6358\n",
      "Epoch 30/50\n",
      "51/51 [==============================] - 0s 4ms/step - loss: 0.6386 - accuracy: 0.6328 - val_loss: 0.6437 - val_accuracy: 0.6318\n",
      "Epoch 31/50\n",
      "51/51 [==============================] - 0s 3ms/step - loss: 0.6352 - accuracy: 0.6339 - val_loss: 0.6440 - val_accuracy: 0.6293\n",
      "Epoch 32/50\n",
      "51/51 [==============================] - 0s 4ms/step - loss: 0.6362 - accuracy: 0.6332 - val_loss: 0.6440 - val_accuracy: 0.6346\n",
      "Epoch 33/50\n",
      "51/51 [==============================] - 0s 4ms/step - loss: 0.6355 - accuracy: 0.6364 - val_loss: 0.6440 - val_accuracy: 0.6339\n",
      "Epoch 34/50\n",
      "51/51 [==============================] - 0s 3ms/step - loss: 0.6374 - accuracy: 0.6314 - val_loss: 0.6440 - val_accuracy: 0.6336\n",
      "Epoch 35/50\n",
      "51/51 [==============================] - 0s 3ms/step - loss: 0.6355 - accuracy: 0.6353 - val_loss: 0.6442 - val_accuracy: 0.6333\n",
      "Epoch 36/50\n",
      "51/51 [==============================] - 0s 4ms/step - loss: 0.6361 - accuracy: 0.6369 - val_loss: 0.6441 - val_accuracy: 0.6401\n",
      "Epoch 37/50\n",
      "51/51 [==============================] - 0s 4ms/step - loss: 0.6345 - accuracy: 0.6367 - val_loss: 0.6439 - val_accuracy: 0.6364\n",
      "Epoch 38/50\n",
      "51/51 [==============================] - 0s 4ms/step - loss: 0.6365 - accuracy: 0.6331 - val_loss: 0.6434 - val_accuracy: 0.6358\n",
      "Epoch 39/50\n",
      "51/51 [==============================] - 0s 3ms/step - loss: 0.6378 - accuracy: 0.6302 - val_loss: 0.6435 - val_accuracy: 0.6330\n",
      "Epoch 40/50\n",
      "51/51 [==============================] - 0s 3ms/step - loss: 0.6380 - accuracy: 0.6317 - val_loss: 0.6435 - val_accuracy: 0.6339\n",
      "Epoch 41/50\n",
      "51/51 [==============================] - 0s 4ms/step - loss: 0.6350 - accuracy: 0.6332 - val_loss: 0.6433 - val_accuracy: 0.6364\n",
      "Epoch 42/50\n",
      "51/51 [==============================] - 0s 3ms/step - loss: 0.6363 - accuracy: 0.6348 - val_loss: 0.6435 - val_accuracy: 0.6370\n",
      "Epoch 43/50\n",
      "51/51 [==============================] - 0s 3ms/step - loss: 0.6353 - accuracy: 0.6338 - val_loss: 0.6431 - val_accuracy: 0.6358\n",
      "Epoch 44/50\n",
      "51/51 [==============================] - 0s 3ms/step - loss: 0.6364 - accuracy: 0.6333 - val_loss: 0.6434 - val_accuracy: 0.6398\n",
      "Epoch 45/50\n",
      "51/51 [==============================] - 0s 3ms/step - loss: 0.6360 - accuracy: 0.6346 - val_loss: 0.6433 - val_accuracy: 0.6321\n",
      "Epoch 46/50\n",
      "51/51 [==============================] - 0s 3ms/step - loss: 0.6351 - accuracy: 0.6311 - val_loss: 0.6434 - val_accuracy: 0.6377\n",
      "Epoch 47/50\n",
      "51/51 [==============================] - 0s 3ms/step - loss: 0.6373 - accuracy: 0.6306 - val_loss: 0.6436 - val_accuracy: 0.6364\n",
      "Epoch 48/50\n",
      "51/51 [==============================] - 0s 3ms/step - loss: 0.6361 - accuracy: 0.6297 - val_loss: 0.6432 - val_accuracy: 0.6389\n",
      "Epoch 49/50\n",
      "51/51 [==============================] - 0s 3ms/step - loss: 0.6345 - accuracy: 0.6335 - val_loss: 0.6432 - val_accuracy: 0.6380\n",
      "Epoch 50/50\n",
      "51/51 [==============================] - 0s 2ms/step - loss: 0.6362 - accuracy: 0.6333 - val_loss: 0.6433 - val_accuracy: 0.6349\n"
     ]
    }
   ],
   "source": [
    "history=model.fit(X_train,y_train,\n",
    "          epochs=50,\n",
    "          batch_size=256,\n",
    "          validation_data=(X_test,y_test))"
   ]
  },
  {
   "cell_type": "code",
   "execution_count": 60,
   "metadata": {
    "colab": {
     "base_uri": "https://localhost:8080/"
    },
    "id": "MxRbi_h4XLFo",
    "outputId": "1409609c-68b5-4c77-f2ff-50804d518f08"
   },
   "outputs": [
    {
     "name": "stdout",
     "output_type": "stream",
     "text": [
      "101/101 [==============================] - 0s 1ms/step - loss: 0.6433 - accuracy: 0.6349\n"
     ]
    },
    {
     "data": {
      "text/plain": [
       "[0.6433086395263672, 0.6348663568496704]"
      ]
     },
     "execution_count": 60,
     "metadata": {},
     "output_type": "execute_result"
    }
   ],
   "source": [
    "model.evaluate(X_test,y_test)"
   ]
  },
  {
   "cell_type": "code",
   "execution_count": 61,
   "metadata": {
    "colab": {
     "base_uri": "https://localhost:8080/"
    },
    "id": "-PXokOlXXLFo",
    "outputId": "1b2d275d-ccc7-4654-c8ea-9dfd991485a1"
   },
   "outputs": [
    {
     "name": "stdout",
     "output_type": "stream",
     "text": [
      "101/101 [==============================] - 0s 1ms/step\n"
     ]
    }
   ],
   "source": [
    "y_pred=model.predict(X_test)"
   ]
  },
  {
   "cell_type": "code",
   "execution_count": 62,
   "metadata": {
    "colab": {
     "base_uri": "https://localhost:8080/"
    },
    "id": "r8kENORHXLFp",
    "outputId": "0ed82112-bb8f-43ff-965b-1f741e9df69c"
   },
   "outputs": [
    {
     "data": {
      "text/plain": [
       "array([[0.48226872],\n",
       "       [0.7590577 ],\n",
       "       [0.5538002 ],\n",
       "       ...,\n",
       "       [0.66819197],\n",
       "       [0.49153423],\n",
       "       [0.5063078 ]], dtype=float32)"
      ]
     },
     "execution_count": 62,
     "metadata": {},
     "output_type": "execute_result"
    }
   ],
   "source": [
    "y_pred"
   ]
  },
  {
   "cell_type": "code",
   "execution_count": 63,
   "metadata": {
    "id": "dmMWqHVwXLFp"
   },
   "outputs": [],
   "source": [
    "predictions=(y_pred>0.5).astype('int')"
   ]
  },
  {
   "cell_type": "code",
   "execution_count": 64,
   "metadata": {
    "colab": {
     "base_uri": "https://localhost:8080/"
    },
    "id": "uCWVpdwzXLFp",
    "outputId": "f78565bf-c8dc-427f-80d4-6a43890d9e20"
   },
   "outputs": [
    {
     "data": {
      "text/plain": [
       "array([[0],\n",
       "       [1],\n",
       "       [1],\n",
       "       ...,\n",
       "       [1],\n",
       "       [0],\n",
       "       [1]])"
      ]
     },
     "execution_count": 64,
     "metadata": {},
     "output_type": "execute_result"
    }
   ],
   "source": [
    "predictions"
   ]
  },
  {
   "cell_type": "code",
   "execution_count": 65,
   "metadata": {
    "colab": {
     "base_uri": "https://localhost:8080/"
    },
    "id": "7wCAEXkKXLFp",
    "outputId": "5135f910-83d7-4a58-cb08-3a4964761a75"
   },
   "outputs": [
    {
     "data": {
      "text/plain": [
       "5033    0\n",
       "8164    1\n",
       "9048    1\n",
       "3109    0\n",
       "8346    1\n",
       "       ..\n",
       "4421    0\n",
       "2149    0\n",
       "1766    0\n",
       "430     0\n",
       "5594    0\n",
       "Name: not.fully.paid, Length: 3218, dtype: int64"
      ]
     },
     "execution_count": 65,
     "metadata": {},
     "output_type": "execute_result"
    }
   ],
   "source": [
    "y_test"
   ]
  },
  {
   "cell_type": "code",
   "execution_count": 66,
   "metadata": {
    "colab": {
     "base_uri": "https://localhost:8080/"
    },
    "id": "zITfHHGAXLFq",
    "outputId": "859ef81b-3d50-4252-8215-5f64d60ac87e"
   },
   "outputs": [
    {
     "data": {
      "text/plain": [
       "0.6348663766314481"
      ]
     },
     "execution_count": 66,
     "metadata": {},
     "output_type": "execute_result"
    }
   ],
   "source": [
    "from sklearn.metrics import accuracy_score,confusion_matrix,classification_report\n",
    "accuracy_score(predictions,y_test)"
   ]
  },
  {
   "cell_type": "code",
   "execution_count": 67,
   "metadata": {
    "colab": {
     "base_uri": "https://localhost:8080/"
    },
    "id": "kvAlG3miXLFq",
    "outputId": "4313c9b8-132a-496b-81e3-4440dd3f84ae"
   },
   "outputs": [
    {
     "name": "stdout",
     "output_type": "stream",
     "text": [
      "              precision    recall  f1-score   support\n",
      "\n",
      "           0       0.65      0.63      0.64      1669\n",
      "           1       0.62      0.64      0.63      1549\n",
      "\n",
      "    accuracy                           0.63      3218\n",
      "   macro avg       0.63      0.64      0.63      3218\n",
      "weighted avg       0.64      0.63      0.63      3218\n",
      "\n"
     ]
    }
   ],
   "source": [
    "print(classification_report(predictions,y_test))"
   ]
  },
  {
   "cell_type": "code",
   "execution_count": 68,
   "metadata": {
    "colab": {
     "base_uri": "https://localhost:8080/"
    },
    "id": "bkJgoQAeXLFr",
    "outputId": "ebac0e62-ac93-4496-8e11-6dff3dda811d"
   },
   "outputs": [
    {
     "name": "stderr",
     "output_type": "stream",
     "text": [
      "C:\\Users\\10030099\\AppData\\Roaming\\Python\\Python310\\site-packages\\keras\\src\\engine\\training.py:3079: UserWarning: You are saving your model as an HDF5 file via `model.save()`. This file format is considered legacy. We recommend using instead the native Keras format, e.g. `model.save('my_model.keras')`.\n",
      "  saving_api.save_model(\n"
     ]
    }
   ],
   "source": [
    "model.save('loan_default1.h5')"
   ]
  },
  {
   "cell_type": "markdown",
   "metadata": {
    "id": "pq8fIPwBXLFr"
   },
   "source": [
    "## Model2 Architecture\n"
   ]
  },
  {
   "cell_type": "code",
   "execution_count": 69,
   "metadata": {
    "id": "UlOhgaYnXLFr"
   },
   "outputs": [],
   "source": [
    "# batch Normalization\n",
    "from tensorflow.keras.layers import BatchNormalization"
   ]
  },
  {
   "cell_type": "code",
   "execution_count": 70,
   "metadata": {
    "id": "oSP3xiqJXLFs"
   },
   "outputs": [],
   "source": [
    "# create the architecture model2\n",
    "# First ANN layer\n",
    "model1=Sequential()\n",
    "model1.add(Dense(128,activation='relu',input_shape=[9]))\n",
    "model1.add(BatchNormalization())\n",
    "model1.add(Dropout(0.20))\n",
    "\n",
    "# Second ANN layer\n",
    "model1.add(Dense(64,activation='tanh'))\n",
    "model1.add(BatchNormalization())\n",
    "model1.add(Dropout(0.20))\n",
    "\n",
    "\n",
    "# third ANN layer\n",
    "model1.add(Dense(32,activation='relu'))\n",
    "model1.add(BatchNormalization())\n",
    "model1.add(Dropout(0.20))\n",
    "\n",
    "# output layer\n",
    "model1.add(Dense(1,activation='sigmoid'))"
   ]
  },
  {
   "cell_type": "code",
   "execution_count": 71,
   "metadata": {
    "colab": {
     "base_uri": "https://localhost:8080/"
    },
    "id": "24tgHmv5XLFs",
    "outputId": "355650c2-e968-4f56-84ed-a1ec7c7edbbe"
   },
   "outputs": [
    {
     "name": "stdout",
     "output_type": "stream",
     "text": [
      "Model: \"sequential_1\"\n",
      "_________________________________________________________________\n",
      " Layer (type)                Output Shape              Param #   \n",
      "=================================================================\n",
      " dense_3 (Dense)             (None, 128)               1280      \n",
      "                                                                 \n",
      " batch_normalization (Batch  (None, 128)               512       \n",
      " Normalization)                                                  \n",
      "                                                                 \n",
      " dropout_2 (Dropout)         (None, 128)               0         \n",
      "                                                                 \n",
      " dense_4 (Dense)             (None, 64)                8256      \n",
      "                                                                 \n",
      " batch_normalization_1 (Bat  (None, 64)                256       \n",
      " chNormalization)                                                \n",
      "                                                                 \n",
      " dropout_3 (Dropout)         (None, 64)                0         \n",
      "                                                                 \n",
      " dense_5 (Dense)             (None, 32)                2080      \n",
      "                                                                 \n",
      " batch_normalization_2 (Bat  (None, 32)                128       \n",
      " chNormalization)                                                \n",
      "                                                                 \n",
      " dropout_4 (Dropout)         (None, 32)                0         \n",
      "                                                                 \n",
      " dense_6 (Dense)             (None, 1)                 33        \n",
      "                                                                 \n",
      "=================================================================\n",
      "Total params: 12545 (49.00 KB)\n",
      "Trainable params: 12097 (47.25 KB)\n",
      "Non-trainable params: 448 (1.75 KB)\n",
      "_________________________________________________________________\n"
     ]
    }
   ],
   "source": [
    "model1.summary()"
   ]
  },
  {
   "cell_type": "code",
   "execution_count": 72,
   "metadata": {
    "id": "zP9FnTQHXLFt"
   },
   "outputs": [],
   "source": [
    "# compile the model\n",
    "model1.compile(loss='binary_crossentropy',optimizer='adam',metrics=['accuracy'])"
   ]
  },
  {
   "cell_type": "code",
   "execution_count": 73,
   "metadata": {
    "colab": {
     "base_uri": "https://localhost:8080/"
    },
    "id": "C7y2ZsxJXLFt",
    "outputId": "7784064e-b4a9-493c-d7ee-d7aa2944b5c5",
    "tags": []
   },
   "outputs": [
    {
     "name": "stdout",
     "output_type": "stream",
     "text": [
      "Epoch 1/100\n",
      "51/51 [==============================] - 2s 9ms/step - loss: 0.7695 - accuracy: 0.5736 - val_loss: 0.6634 - val_accuracy: 0.5991\n",
      "Epoch 2/100\n",
      "51/51 [==============================] - 0s 5ms/step - loss: 0.7053 - accuracy: 0.5875 - val_loss: 0.6556 - val_accuracy: 0.6094\n",
      "Epoch 3/100\n",
      "51/51 [==============================] - 0s 6ms/step - loss: 0.6794 - accuracy: 0.6050 - val_loss: 0.6539 - val_accuracy: 0.6007\n",
      "Epoch 4/100\n",
      "51/51 [==============================] - 0s 5ms/step - loss: 0.6726 - accuracy: 0.5998 - val_loss: 0.6520 - val_accuracy: 0.6072\n",
      "Epoch 5/100\n",
      "51/51 [==============================] - 0s 4ms/step - loss: 0.6608 - accuracy: 0.6141 - val_loss: 0.6503 - val_accuracy: 0.6203\n",
      "Epoch 6/100\n",
      "51/51 [==============================] - 0s 5ms/step - loss: 0.6625 - accuracy: 0.6088 - val_loss: 0.6498 - val_accuracy: 0.6231\n",
      "Epoch 7/100\n",
      "51/51 [==============================] - 0s 5ms/step - loss: 0.6519 - accuracy: 0.6172 - val_loss: 0.6466 - val_accuracy: 0.6206\n",
      "Epoch 8/100\n",
      "51/51 [==============================] - 0s 5ms/step - loss: 0.6472 - accuracy: 0.6261 - val_loss: 0.6441 - val_accuracy: 0.6252\n",
      "Epoch 9/100\n",
      "51/51 [==============================] - 0s 5ms/step - loss: 0.6421 - accuracy: 0.6234 - val_loss: 0.6432 - val_accuracy: 0.6259\n",
      "Epoch 10/100\n",
      "51/51 [==============================] - 0s 5ms/step - loss: 0.6415 - accuracy: 0.6265 - val_loss: 0.6418 - val_accuracy: 0.6361\n",
      "Epoch 11/100\n",
      "51/51 [==============================] - 0s 5ms/step - loss: 0.6406 - accuracy: 0.6277 - val_loss: 0.6411 - val_accuracy: 0.6305\n",
      "Epoch 12/100\n",
      "51/51 [==============================] - 0s 5ms/step - loss: 0.6389 - accuracy: 0.6276 - val_loss: 0.6403 - val_accuracy: 0.6370\n",
      "Epoch 13/100\n",
      "51/51 [==============================] - 0s 5ms/step - loss: 0.6350 - accuracy: 0.6335 - val_loss: 0.6434 - val_accuracy: 0.6380\n",
      "Epoch 14/100\n",
      "51/51 [==============================] - 0s 5ms/step - loss: 0.6340 - accuracy: 0.6321 - val_loss: 0.6407 - val_accuracy: 0.6377\n",
      "Epoch 15/100\n",
      "51/51 [==============================] - 0s 7ms/step - loss: 0.6342 - accuracy: 0.6329 - val_loss: 0.6391 - val_accuracy: 0.6370\n",
      "Epoch 16/100\n",
      "51/51 [==============================] - 0s 5ms/step - loss: 0.6330 - accuracy: 0.6421 - val_loss: 0.6384 - val_accuracy: 0.6346\n",
      "Epoch 17/100\n",
      "51/51 [==============================] - 0s 5ms/step - loss: 0.6311 - accuracy: 0.6388 - val_loss: 0.6381 - val_accuracy: 0.6392\n",
      "Epoch 18/100\n",
      "51/51 [==============================] - 0s 5ms/step - loss: 0.6276 - accuracy: 0.6448 - val_loss: 0.6388 - val_accuracy: 0.6370\n",
      "Epoch 19/100\n",
      "51/51 [==============================] - 0s 6ms/step - loss: 0.6296 - accuracy: 0.6394 - val_loss: 0.6369 - val_accuracy: 0.6398\n",
      "Epoch 20/100\n",
      "51/51 [==============================] - 0s 7ms/step - loss: 0.6292 - accuracy: 0.6441 - val_loss: 0.6349 - val_accuracy: 0.6377\n",
      "Epoch 21/100\n",
      "51/51 [==============================] - 0s 5ms/step - loss: 0.6280 - accuracy: 0.6412 - val_loss: 0.6348 - val_accuracy: 0.6352\n",
      "Epoch 22/100\n",
      "51/51 [==============================] - 0s 5ms/step - loss: 0.6266 - accuracy: 0.6417 - val_loss: 0.6333 - val_accuracy: 0.6380\n",
      "Epoch 23/100\n",
      "51/51 [==============================] - 0s 5ms/step - loss: 0.6271 - accuracy: 0.6457 - val_loss: 0.6333 - val_accuracy: 0.6467\n",
      "Epoch 24/100\n",
      "51/51 [==============================] - 0s 5ms/step - loss: 0.6230 - accuracy: 0.6478 - val_loss: 0.6330 - val_accuracy: 0.6429\n",
      "Epoch 25/100\n",
      "51/51 [==============================] - 0s 5ms/step - loss: 0.6216 - accuracy: 0.6548 - val_loss: 0.6319 - val_accuracy: 0.6392\n",
      "Epoch 26/100\n",
      "51/51 [==============================] - 0s 5ms/step - loss: 0.6232 - accuracy: 0.6503 - val_loss: 0.6314 - val_accuracy: 0.6367\n",
      "Epoch 27/100\n",
      "51/51 [==============================] - 0s 5ms/step - loss: 0.6214 - accuracy: 0.6503 - val_loss: 0.6309 - val_accuracy: 0.6374\n",
      "Epoch 28/100\n",
      "51/51 [==============================] - 0s 5ms/step - loss: 0.6214 - accuracy: 0.6503 - val_loss: 0.6292 - val_accuracy: 0.6448\n",
      "Epoch 29/100\n",
      "51/51 [==============================] - 0s 5ms/step - loss: 0.6174 - accuracy: 0.6548 - val_loss: 0.6281 - val_accuracy: 0.6417\n",
      "Epoch 30/100\n",
      "51/51 [==============================] - 0s 5ms/step - loss: 0.6161 - accuracy: 0.6558 - val_loss: 0.6274 - val_accuracy: 0.6405\n",
      "Epoch 31/100\n",
      "51/51 [==============================] - 0s 6ms/step - loss: 0.6189 - accuracy: 0.6555 - val_loss: 0.6274 - val_accuracy: 0.6423\n",
      "Epoch 32/100\n",
      "51/51 [==============================] - 0s 5ms/step - loss: 0.6182 - accuracy: 0.6537 - val_loss: 0.6273 - val_accuracy: 0.6374\n",
      "Epoch 33/100\n",
      "51/51 [==============================] - 0s 5ms/step - loss: 0.6152 - accuracy: 0.6547 - val_loss: 0.6269 - val_accuracy: 0.6374\n",
      "Epoch 34/100\n",
      "51/51 [==============================] - 0s 5ms/step - loss: 0.6138 - accuracy: 0.6610 - val_loss: 0.6247 - val_accuracy: 0.6442\n",
      "Epoch 35/100\n",
      "51/51 [==============================] - 0s 6ms/step - loss: 0.6145 - accuracy: 0.6565 - val_loss: 0.6256 - val_accuracy: 0.6439\n",
      "Epoch 36/100\n",
      "51/51 [==============================] - 0s 5ms/step - loss: 0.6122 - accuracy: 0.6627 - val_loss: 0.6231 - val_accuracy: 0.6467\n",
      "Epoch 37/100\n",
      "51/51 [==============================] - 0s 6ms/step - loss: 0.6120 - accuracy: 0.6590 - val_loss: 0.6223 - val_accuracy: 0.6454\n",
      "Epoch 38/100\n",
      "51/51 [==============================] - 0s 5ms/step - loss: 0.6134 - accuracy: 0.6568 - val_loss: 0.6221 - val_accuracy: 0.6504\n",
      "Epoch 39/100\n",
      "51/51 [==============================] - 0s 7ms/step - loss: 0.6109 - accuracy: 0.6617 - val_loss: 0.6211 - val_accuracy: 0.6501\n",
      "Epoch 40/100\n",
      "51/51 [==============================] - 0s 6ms/step - loss: 0.6090 - accuracy: 0.6640 - val_loss: 0.6221 - val_accuracy: 0.6507\n",
      "Epoch 41/100\n",
      "51/51 [==============================] - 0s 5ms/step - loss: 0.6071 - accuracy: 0.6659 - val_loss: 0.6184 - val_accuracy: 0.6529\n",
      "Epoch 42/100\n",
      "51/51 [==============================] - 0s 5ms/step - loss: 0.6088 - accuracy: 0.6638 - val_loss: 0.6184 - val_accuracy: 0.6582\n",
      "Epoch 43/100\n",
      "51/51 [==============================] - 0s 5ms/step - loss: 0.6044 - accuracy: 0.6688 - val_loss: 0.6170 - val_accuracy: 0.6610\n",
      "Epoch 44/100\n",
      "51/51 [==============================] - 0s 5ms/step - loss: 0.6063 - accuracy: 0.6660 - val_loss: 0.6166 - val_accuracy: 0.6551\n",
      "Epoch 45/100\n",
      "51/51 [==============================] - 0s 5ms/step - loss: 0.6067 - accuracy: 0.6653 - val_loss: 0.6146 - val_accuracy: 0.6619\n",
      "Epoch 46/100\n",
      "51/51 [==============================] - 0s 5ms/step - loss: 0.6045 - accuracy: 0.6690 - val_loss: 0.6138 - val_accuracy: 0.6672\n",
      "Epoch 47/100\n",
      "51/51 [==============================] - 0s 5ms/step - loss: 0.5998 - accuracy: 0.6750 - val_loss: 0.6137 - val_accuracy: 0.6625\n",
      "Epoch 48/100\n",
      "51/51 [==============================] - 0s 5ms/step - loss: 0.6042 - accuracy: 0.6670 - val_loss: 0.6112 - val_accuracy: 0.6690\n",
      "Epoch 49/100\n",
      "51/51 [==============================] - 0s 5ms/step - loss: 0.6021 - accuracy: 0.6696 - val_loss: 0.6142 - val_accuracy: 0.6656\n",
      "Epoch 50/100\n",
      "51/51 [==============================] - 0s 6ms/step - loss: 0.6009 - accuracy: 0.6718 - val_loss: 0.6096 - val_accuracy: 0.6706\n",
      "Epoch 51/100\n",
      "51/51 [==============================] - 0s 5ms/step - loss: 0.5992 - accuracy: 0.6712 - val_loss: 0.6084 - val_accuracy: 0.6700\n",
      "Epoch 52/100\n",
      "51/51 [==============================] - 0s 6ms/step - loss: 0.5946 - accuracy: 0.6783 - val_loss: 0.6069 - val_accuracy: 0.6718\n",
      "Epoch 53/100\n",
      "51/51 [==============================] - 0s 9ms/step - loss: 0.5976 - accuracy: 0.6734 - val_loss: 0.6079 - val_accuracy: 0.6765\n",
      "Epoch 54/100\n",
      "51/51 [==============================] - 0s 8ms/step - loss: 0.5961 - accuracy: 0.6743 - val_loss: 0.6046 - val_accuracy: 0.6722\n",
      "Epoch 55/100\n",
      "51/51 [==============================] - 0s 5ms/step - loss: 0.5966 - accuracy: 0.6757 - val_loss: 0.6064 - val_accuracy: 0.6737\n",
      "Epoch 56/100\n",
      "51/51 [==============================] - 0s 6ms/step - loss: 0.5948 - accuracy: 0.6804 - val_loss: 0.6057 - val_accuracy: 0.6784\n",
      "Epoch 57/100\n",
      "51/51 [==============================] - 0s 7ms/step - loss: 0.5935 - accuracy: 0.6773 - val_loss: 0.6066 - val_accuracy: 0.6706\n",
      "Epoch 58/100\n",
      "51/51 [==============================] - 0s 5ms/step - loss: 0.5886 - accuracy: 0.6833 - val_loss: 0.6047 - val_accuracy: 0.6737\n",
      "Epoch 59/100\n",
      "51/51 [==============================] - 0s 7ms/step - loss: 0.5944 - accuracy: 0.6807 - val_loss: 0.6001 - val_accuracy: 0.6843\n",
      "Epoch 60/100\n",
      "51/51 [==============================] - 0s 5ms/step - loss: 0.5920 - accuracy: 0.6770 - val_loss: 0.6008 - val_accuracy: 0.6809\n",
      "Epoch 61/100\n",
      "51/51 [==============================] - 0s 5ms/step - loss: 0.5938 - accuracy: 0.6792 - val_loss: 0.6018 - val_accuracy: 0.6731\n",
      "Epoch 62/100\n",
      "51/51 [==============================] - 0s 5ms/step - loss: 0.5870 - accuracy: 0.6859 - val_loss: 0.5972 - val_accuracy: 0.6740\n",
      "Epoch 63/100\n",
      "51/51 [==============================] - 0s 6ms/step - loss: 0.5865 - accuracy: 0.6816 - val_loss: 0.5963 - val_accuracy: 0.6762\n",
      "Epoch 64/100\n",
      "51/51 [==============================] - 0s 7ms/step - loss: 0.5835 - accuracy: 0.6872 - val_loss: 0.5964 - val_accuracy: 0.6774\n",
      "Epoch 65/100\n",
      "51/51 [==============================] - 0s 6ms/step - loss: 0.5859 - accuracy: 0.6850 - val_loss: 0.5954 - val_accuracy: 0.6812\n",
      "Epoch 66/100\n",
      "51/51 [==============================] - 0s 5ms/step - loss: 0.5859 - accuracy: 0.6846 - val_loss: 0.5926 - val_accuracy: 0.6833\n",
      "Epoch 67/100\n",
      "51/51 [==============================] - 0s 5ms/step - loss: 0.5872 - accuracy: 0.6882 - val_loss: 0.5917 - val_accuracy: 0.6871\n",
      "Epoch 68/100\n",
      "51/51 [==============================] - 0s 5ms/step - loss: 0.5811 - accuracy: 0.6892 - val_loss: 0.5919 - val_accuracy: 0.6865\n",
      "Epoch 69/100\n",
      "51/51 [==============================] - 0s 5ms/step - loss: 0.5822 - accuracy: 0.6906 - val_loss: 0.5882 - val_accuracy: 0.6889\n",
      "Epoch 70/100\n",
      "51/51 [==============================] - 0s 5ms/step - loss: 0.5804 - accuracy: 0.6913 - val_loss: 0.5909 - val_accuracy: 0.6790\n",
      "Epoch 71/100\n",
      "51/51 [==============================] - 0s 5ms/step - loss: 0.5774 - accuracy: 0.6868 - val_loss: 0.5893 - val_accuracy: 0.6896\n",
      "Epoch 72/100\n",
      "51/51 [==============================] - 0s 4ms/step - loss: 0.5789 - accuracy: 0.6873 - val_loss: 0.5856 - val_accuracy: 0.6930\n",
      "Epoch 73/100\n",
      "51/51 [==============================] - 0s 5ms/step - loss: 0.5803 - accuracy: 0.6969 - val_loss: 0.5853 - val_accuracy: 0.6812\n",
      "Epoch 74/100\n",
      "51/51 [==============================] - 0s 7ms/step - loss: 0.5779 - accuracy: 0.6872 - val_loss: 0.5837 - val_accuracy: 0.6849\n",
      "Epoch 75/100\n",
      "51/51 [==============================] - 0s 6ms/step - loss: 0.5792 - accuracy: 0.6913 - val_loss: 0.5883 - val_accuracy: 0.6871\n",
      "Epoch 76/100\n",
      "51/51 [==============================] - 0s 7ms/step - loss: 0.5784 - accuracy: 0.6910 - val_loss: 0.5836 - val_accuracy: 0.6911\n",
      "Epoch 77/100\n",
      "51/51 [==============================] - 0s 6ms/step - loss: 0.5742 - accuracy: 0.6947 - val_loss: 0.5804 - val_accuracy: 0.6899\n",
      "Epoch 78/100\n",
      "51/51 [==============================] - 0s 5ms/step - loss: 0.5766 - accuracy: 0.6889 - val_loss: 0.5809 - val_accuracy: 0.6939\n",
      "Epoch 79/100\n",
      "51/51 [==============================] - 0s 5ms/step - loss: 0.5731 - accuracy: 0.6959 - val_loss: 0.5824 - val_accuracy: 0.6930\n",
      "Epoch 80/100\n",
      "51/51 [==============================] - 0s 5ms/step - loss: 0.5715 - accuracy: 0.6979 - val_loss: 0.5796 - val_accuracy: 0.6970\n",
      "Epoch 81/100\n",
      "51/51 [==============================] - 0s 5ms/step - loss: 0.5742 - accuracy: 0.6944 - val_loss: 0.5777 - val_accuracy: 0.7020\n",
      "Epoch 82/100\n",
      "51/51 [==============================] - 0s 5ms/step - loss: 0.5731 - accuracy: 0.6945 - val_loss: 0.5809 - val_accuracy: 0.6976\n",
      "Epoch 83/100\n",
      "51/51 [==============================] - 0s 5ms/step - loss: 0.5718 - accuracy: 0.6939 - val_loss: 0.5788 - val_accuracy: 0.6967\n",
      "Epoch 84/100\n",
      "51/51 [==============================] - 0s 5ms/step - loss: 0.5740 - accuracy: 0.6948 - val_loss: 0.5766 - val_accuracy: 0.6939\n",
      "Epoch 85/100\n",
      "51/51 [==============================] - 0s 5ms/step - loss: 0.5693 - accuracy: 0.7007 - val_loss: 0.5777 - val_accuracy: 0.6871\n",
      "Epoch 86/100\n",
      "51/51 [==============================] - 0s 5ms/step - loss: 0.5711 - accuracy: 0.6990 - val_loss: 0.5768 - val_accuracy: 0.6992\n",
      "Epoch 87/100\n",
      "51/51 [==============================] - 0s 5ms/step - loss: 0.5679 - accuracy: 0.6989 - val_loss: 0.5755 - val_accuracy: 0.6920\n",
      "Epoch 88/100\n",
      "51/51 [==============================] - 0s 5ms/step - loss: 0.5649 - accuracy: 0.7011 - val_loss: 0.5766 - val_accuracy: 0.6948\n",
      "Epoch 89/100\n",
      "51/51 [==============================] - 0s 7ms/step - loss: 0.5618 - accuracy: 0.7067 - val_loss: 0.5714 - val_accuracy: 0.7007\n",
      "Epoch 90/100\n",
      "51/51 [==============================] - 0s 6ms/step - loss: 0.5649 - accuracy: 0.7040 - val_loss: 0.5724 - val_accuracy: 0.7048\n",
      "Epoch 91/100\n",
      "51/51 [==============================] - 0s 5ms/step - loss: 0.5638 - accuracy: 0.7008 - val_loss: 0.5751 - val_accuracy: 0.7001\n",
      "Epoch 92/100\n",
      "51/51 [==============================] - 0s 5ms/step - loss: 0.5682 - accuracy: 0.6972 - val_loss: 0.5733 - val_accuracy: 0.7026\n",
      "Epoch 93/100\n",
      "51/51 [==============================] - 0s 5ms/step - loss: 0.5660 - accuracy: 0.7047 - val_loss: 0.5693 - val_accuracy: 0.7020\n",
      "Epoch 94/100\n",
      "51/51 [==============================] - 0s 6ms/step - loss: 0.5604 - accuracy: 0.7059 - val_loss: 0.5676 - val_accuracy: 0.7057\n",
      "Epoch 95/100\n",
      "51/51 [==============================] - 0s 5ms/step - loss: 0.5663 - accuracy: 0.7028 - val_loss: 0.5670 - val_accuracy: 0.7119\n",
      "Epoch 96/100\n",
      "51/51 [==============================] - 0s 5ms/step - loss: 0.5637 - accuracy: 0.7058 - val_loss: 0.5688 - val_accuracy: 0.7042\n",
      "Epoch 97/100\n",
      "51/51 [==============================] - 0s 5ms/step - loss: 0.5629 - accuracy: 0.7049 - val_loss: 0.5710 - val_accuracy: 0.7011\n",
      "Epoch 98/100\n",
      "51/51 [==============================] - 0s 6ms/step - loss: 0.5626 - accuracy: 0.7044 - val_loss: 0.5673 - val_accuracy: 0.7060\n",
      "Epoch 99/100\n",
      "51/51 [==============================] - 0s 6ms/step - loss: 0.5577 - accuracy: 0.7105 - val_loss: 0.5646 - val_accuracy: 0.7067\n",
      "Epoch 100/100\n",
      "51/51 [==============================] - 0s 5ms/step - loss: 0.5632 - accuracy: 0.6970 - val_loss: 0.5638 - val_accuracy: 0.7063\n"
     ]
    }
   ],
   "source": [
    "history=model1.fit(X_train,y_train,\n",
    "          epochs=100,\n",
    "          batch_size=256,\n",
    "          validation_data=(X_test,y_test))"
   ]
  },
  {
   "cell_type": "code",
   "execution_count": 74,
   "metadata": {
    "colab": {
     "base_uri": "https://localhost:8080/"
    },
    "id": "ZfK0O-h8XLFu",
    "outputId": "4c4feb36-7705-42d7-ae3e-19bb842d999e"
   },
   "outputs": [
    {
     "name": "stdout",
     "output_type": "stream",
     "text": [
      "101/101 [==============================] - 0s 2ms/step - loss: 0.5638 - accuracy: 0.7063\n"
     ]
    },
    {
     "data": {
      "text/plain": [
       "[0.5638065934181213, 0.7063393592834473]"
      ]
     },
     "execution_count": 74,
     "metadata": {},
     "output_type": "execute_result"
    }
   ],
   "source": [
    "model1.evaluate(X_test,y_test)"
   ]
  },
  {
   "cell_type": "code",
   "execution_count": 75,
   "metadata": {
    "colab": {
     "base_uri": "https://localhost:8080/"
    },
    "id": "UPizFQuRXLFu",
    "outputId": "b05efa97-ca1d-49f2-88e2-75e2dc3e1453"
   },
   "outputs": [
    {
     "name": "stdout",
     "output_type": "stream",
     "text": [
      "403/403 [==============================] - 1s 1ms/step - loss: 0.4888 - accuracy: 0.7710\n"
     ]
    },
    {
     "data": {
      "text/plain": [
       "[0.4888094365596771, 0.7709757685661316]"
      ]
     },
     "execution_count": 75,
     "metadata": {},
     "output_type": "execute_result"
    }
   ],
   "source": [
    "model1.evaluate(X_train,y_train)"
   ]
  },
  {
   "cell_type": "markdown",
   "metadata": {
    "id": "JcG6f9czXLFu"
   },
   "source": [
    "# Hyparameter tuning in Keras"
   ]
  },
  {
   "cell_type": "code",
   "execution_count": 65,
   "metadata": {
    "colab": {
     "base_uri": "https://localhost:8080/"
    },
    "collapsed": true,
    "id": "l4eXERrbXLFu",
    "jupyter": {
     "outputs_hidden": true
    },
    "outputId": "d8257dca-eaa9-410d-8d35-1e6fafb315a6",
    "tags": []
   },
   "outputs": [
    {
     "name": "stdout",
     "output_type": "stream",
     "text": [
      "Collecting keras-tuner\n",
      "  Downloading keras_tuner-1.4.5-py3-none-any.whl (129 kB)\n",
      "\u001b[2K     \u001b[90m━━━━━━━━━━━━━━━━━━━━━━━━━━━━━━━━━━━━━━━━\u001b[0m \u001b[32m129.5/129.5 kB\u001b[0m \u001b[31m2.5 MB/s\u001b[0m eta \u001b[36m0:00:00\u001b[0m\n",
      "\u001b[?25hCollecting keras-core (from keras-tuner)\n",
      "  Downloading keras_core-0.1.7-py3-none-any.whl (950 kB)\n",
      "\u001b[2K     \u001b[90m━━━━━━━━━━━━━━━━━━━━━━━━━━━━━━━━━━━━━━━━\u001b[0m \u001b[32m950.8/950.8 kB\u001b[0m \u001b[31m8.7 MB/s\u001b[0m eta \u001b[36m0:00:00\u001b[0m\n",
      "\u001b[?25hRequirement already satisfied: packaging in /usr/local/lib/python3.10/dist-packages (from keras-tuner) (23.2)\n",
      "Requirement already satisfied: requests in /usr/local/lib/python3.10/dist-packages (from keras-tuner) (2.31.0)\n",
      "Collecting kt-legacy (from keras-tuner)\n",
      "  Downloading kt_legacy-1.0.5-py3-none-any.whl (9.6 kB)\n",
      "Requirement already satisfied: absl-py in /usr/local/lib/python3.10/dist-packages (from keras-core->keras-tuner) (1.4.0)\n",
      "Requirement already satisfied: numpy in /usr/local/lib/python3.10/dist-packages (from keras-core->keras-tuner) (1.23.5)\n",
      "Requirement already satisfied: rich in /usr/local/lib/python3.10/dist-packages (from keras-core->keras-tuner) (13.6.0)\n",
      "Collecting namex (from keras-core->keras-tuner)\n",
      "  Downloading namex-0.0.7-py3-none-any.whl (5.8 kB)\n",
      "Requirement already satisfied: h5py in /usr/local/lib/python3.10/dist-packages (from keras-core->keras-tuner) (3.9.0)\n",
      "Requirement already satisfied: dm-tree in /usr/local/lib/python3.10/dist-packages (from keras-core->keras-tuner) (0.1.8)\n",
      "Requirement already satisfied: charset-normalizer<4,>=2 in /usr/local/lib/python3.10/dist-packages (from requests->keras-tuner) (3.3.1)\n",
      "Requirement already satisfied: idna<4,>=2.5 in /usr/local/lib/python3.10/dist-packages (from requests->keras-tuner) (3.4)\n",
      "Requirement already satisfied: urllib3<3,>=1.21.1 in /usr/local/lib/python3.10/dist-packages (from requests->keras-tuner) (2.0.7)\n",
      "Requirement already satisfied: certifi>=2017.4.17 in /usr/local/lib/python3.10/dist-packages (from requests->keras-tuner) (2023.7.22)\n",
      "Requirement already satisfied: markdown-it-py>=2.2.0 in /usr/local/lib/python3.10/dist-packages (from rich->keras-core->keras-tuner) (3.0.0)\n",
      "Requirement already satisfied: pygments<3.0.0,>=2.13.0 in /usr/local/lib/python3.10/dist-packages (from rich->keras-core->keras-tuner) (2.16.1)\n",
      "Requirement already satisfied: mdurl~=0.1 in /usr/local/lib/python3.10/dist-packages (from markdown-it-py>=2.2.0->rich->keras-core->keras-tuner) (0.1.2)\n",
      "Installing collected packages: namex, kt-legacy, keras-core, keras-tuner\n",
      "Successfully installed keras-core-0.1.7 keras-tuner-1.4.5 kt-legacy-1.0.5 namex-0.0.7\n"
     ]
    }
   ],
   "source": [
    "!pip install keras-tuner"
   ]
  },
  {
   "cell_type": "code",
   "execution_count": 66,
   "metadata": {
    "colab": {
     "base_uri": "https://localhost:8080/"
    },
    "id": "T5dbRvAaXLFv",
    "outputId": "d1b09568-38eb-4f3a-f9df-356eb06de008"
   },
   "outputs": [
    {
     "name": "stdout",
     "output_type": "stream",
     "text": [
      "Using TensorFlow backend\n"
     ]
    }
   ],
   "source": [
    "import keras_tuner\n",
    "import tensorflow"
   ]
  },
  {
   "cell_type": "code",
   "execution_count": 67,
   "metadata": {
    "id": "F9p9fdN7XLFv"
   },
   "outputs": [],
   "source": [
    "def build_model(hp):\n",
    "    model=Sequential()\n",
    "\n",
    "    # first hidden layer\n",
    "    model.add(Dense(units=hp.Int('units',min_value=32,max_value=1024,step=16),\n",
    "                   activation=hp.Choice('activation',['relu','tanh']),input_shape=[9]))\n",
    "\n",
    "    model.add(BatchNormalization())\n",
    "    model.add(Dropout(hp.Float('rate',min_value=0.1,max_value=0.5,step=0.1)))\n",
    "\n",
    "\n",
    "    # Second hidden layer\n",
    "    model.add(Dense(units=hp.Int('units',min_value=32,max_value=1024,step=16),\n",
    "                   activation=hp.Choice('activation',['relu','tanh'])))\n",
    "\n",
    "    model.add(BatchNormalization())\n",
    "    model.add(Dropout(hp.Float('rate',min_value=0.1,max_value=0.5,step=0.1)))\n",
    "\n",
    "     # third hidden layer\n",
    "    model.add(Dense(units=hp.Int('units',min_value=32,max_value=1024,step=16),\n",
    "                   activation=hp.Choice('activation',['relu','tanh'])))\n",
    "\n",
    "    model.add(BatchNormalization())\n",
    "    model.add(Dropout(hp.Float('rate',min_value=0.1,max_value=0.5,step=0.1)))\n",
    "\n",
    "    model.add(Dense(1,activation='sigmoid'))\n",
    "\n",
    "    learning_rate=hp.Float('learning_rate',min_value=0.001,max_value=0.1,step=0.01)\n",
    "\n",
    "    model.compile(loss='binary_crossentropy',\n",
    "                  optimizer=tensorflow.keras.optimizers.Adam(learning_rate),\n",
    "                 metrics=['accuracy'])\n",
    "    return model"
   ]
  },
  {
   "cell_type": "code",
   "execution_count": 68,
   "metadata": {
    "id": "dEQhNA41XLFv"
   },
   "outputs": [],
   "source": [
    "import keras_tuner as kt"
   ]
  },
  {
   "cell_type": "code",
   "execution_count": 69,
   "metadata": {
    "colab": {
     "base_uri": "https://localhost:8080/"
    },
    "id": "IuYrTXXtXLFv",
    "outputId": "8e9f9e27-b656-4886-c89f-d50b61720536"
   },
   "outputs": [
    {
     "data": {
      "text/plain": [
       "<keras.src.engine.sequential.Sequential at 0x79a757119390>"
      ]
     },
     "execution_count": 69,
     "metadata": {},
     "output_type": "execute_result"
    }
   ],
   "source": [
    "build_model(kt.HyperParameters())"
   ]
  },
  {
   "cell_type": "code",
   "execution_count": 70,
   "metadata": {
    "id": "LdE7OKhwXLFw"
   },
   "outputs": [],
   "source": [
    "rtuner=kt.RandomSearch(hypermodel=build_model,\n",
    "                       objective='val_accuracy',\n",
    "                       max_trials=10\n",
    "                      )"
   ]
  },
  {
   "cell_type": "code",
   "execution_count": 71,
   "metadata": {
    "colab": {
     "base_uri": "https://localhost:8080/"
    },
    "id": "zGuy7jc6XLFw",
    "outputId": "66713356-f1fd-4e5f-edcd-9010392745d2"
   },
   "outputs": [
    {
     "name": "stdout",
     "output_type": "stream",
     "text": [
      "Trial 10 Complete [00h 02m 24s]\n",
      "val_accuracy: 0.6277191042900085\n",
      "\n",
      "Best val_accuracy So Far: 0.7560596466064453\n",
      "Total elapsed time: 00h 24m 39s\n"
     ]
    }
   ],
   "source": [
    "rtuner.search(X_train,y_train,\n",
    "             epochs=50,validation_data=(X_test,y_test),\n",
    "             verbose=2)"
   ]
  },
  {
   "cell_type": "code",
   "execution_count": 72,
   "metadata": {
    "id": "ujD-W5SaXLFw"
   },
   "outputs": [],
   "source": [
    "par=rtuner.get_best_hyperparameters()"
   ]
  },
  {
   "cell_type": "markdown",
   "metadata": {
    "id": "DbAeA4pYXLFx",
    "jupyter": {
     "outputs_hidden": true
    },
    "tags": []
   },
   "source": [
    "##### for h_param in [f\"units{i}\" for i in range(1,4)]+['learning_rate']:\n",
    "    print(h_param,rtuner.get_best_hyperparameters()[0].get(h_param))\n"
   ]
  },
  {
   "cell_type": "code",
   "execution_count": 73,
   "metadata": {
    "colab": {
     "base_uri": "https://localhost:8080/"
    },
    "id": "S8rQrd2uXLFx",
    "outputId": "aa3180ab-06d5-4d24-d884-28c512e955fe"
   },
   "outputs": [
    {
     "data": {
      "text/plain": [
       "[<keras_tuner.src.engine.hyperparameters.hyperparameters.HyperParameters at 0x79a7302faef0>]"
      ]
     },
     "execution_count": 73,
     "metadata": {},
     "output_type": "execute_result"
    }
   ],
   "source": [
    "par"
   ]
  },
  {
   "cell_type": "code",
   "execution_count": 74,
   "metadata": {
    "id": "vC4Lxt3tXLFx"
   },
   "outputs": [],
   "source": [
    "models=rtuner.get_best_models()"
   ]
  },
  {
   "cell_type": "code",
   "execution_count": 75,
   "metadata": {
    "colab": {
     "base_uri": "https://localhost:8080/"
    },
    "id": "g0lGtL3iXLFx",
    "outputId": "975178d5-8d59-4c45-95a6-95c956b203c6"
   },
   "outputs": [
    {
     "data": {
      "text/plain": [
       "1"
      ]
     },
     "execution_count": 75,
     "metadata": {},
     "output_type": "execute_result"
    }
   ],
   "source": [
    "len(models)"
   ]
  },
  {
   "cell_type": "code",
   "execution_count": 76,
   "metadata": {
    "colab": {
     "base_uri": "https://localhost:8080/"
    },
    "id": "XOskNngpXLFx",
    "outputId": "83daeb7b-5340-4c0e-9e23-e469f9edab4a"
   },
   "outputs": [
    {
     "name": "stdout",
     "output_type": "stream",
     "text": [
      "Model: \"sequential\"\n",
      "_________________________________________________________________\n",
      " Layer (type)                Output Shape              Param #   \n",
      "=================================================================\n",
      " dense (Dense)               (None, 448)               4480      \n",
      "                                                                 \n",
      " batch_normalization (Batch  (None, 448)               1792      \n",
      " Normalization)                                                  \n",
      "                                                                 \n",
      " dropout (Dropout)           (None, 448)               0         \n",
      "                                                                 \n",
      " dense_1 (Dense)             (None, 448)               201152    \n",
      "                                                                 \n",
      " batch_normalization_1 (Bat  (None, 448)               1792      \n",
      " chNormalization)                                                \n",
      "                                                                 \n",
      " dropout_1 (Dropout)         (None, 448)               0         \n",
      "                                                                 \n",
      " dense_2 (Dense)             (None, 448)               201152    \n",
      "                                                                 \n",
      " batch_normalization_2 (Bat  (None, 448)               1792      \n",
      " chNormalization)                                                \n",
      "                                                                 \n",
      " dropout_2 (Dropout)         (None, 448)               0         \n",
      "                                                                 \n",
      " dense_3 (Dense)             (None, 1)                 449       \n",
      "                                                                 \n",
      "=================================================================\n",
      "Total params: 412609 (1.57 MB)\n",
      "Trainable params: 409921 (1.56 MB)\n",
      "Non-trainable params: 2688 (10.50 KB)\n",
      "_________________________________________________________________\n"
     ]
    }
   ],
   "source": [
    "models[0].summary()"
   ]
  },
  {
   "cell_type": "code",
   "execution_count": 77,
   "metadata": {
    "colab": {
     "base_uri": "https://localhost:8080/"
    },
    "id": "3AAMZebdXLFx",
    "outputId": "59f603d7-5e6f-4fb2-c866-de11f7366bce"
   },
   "outputs": [
    {
     "name": "stdout",
     "output_type": "stream",
     "text": [
      "101/101 [==============================] - 0s 2ms/step\n"
     ]
    }
   ],
   "source": [
    "y_pred=models[0].predict(X_test)>=0.5"
   ]
  },
  {
   "cell_type": "code",
   "execution_count": 78,
   "metadata": {
    "colab": {
     "base_uri": "https://localhost:8080/"
    },
    "id": "lm4pzRXNXLFy",
    "outputId": "2b5551b8-970a-4cd0-f882-acb38e22cfc2"
   },
   "outputs": [
    {
     "data": {
      "text/plain": [
       "array([[False],\n",
       "       [ True],\n",
       "       [ True],\n",
       "       ...,\n",
       "       [False],\n",
       "       [ True],\n",
       "       [ True]])"
      ]
     },
     "execution_count": 78,
     "metadata": {},
     "output_type": "execute_result"
    }
   ],
   "source": [
    "y_pred"
   ]
  },
  {
   "cell_type": "code",
   "execution_count": 79,
   "metadata": {
    "colab": {
     "base_uri": "https://localhost:8080/"
    },
    "id": "7G6Rpy2qXLFy",
    "outputId": "9a92b947-fd1e-45f1-b99d-ef01517adda5"
   },
   "outputs": [
    {
     "data": {
      "text/plain": [
       "0.7560596643878186"
      ]
     },
     "execution_count": 79,
     "metadata": {},
     "output_type": "execute_result"
    }
   ],
   "source": [
    "from sklearn.metrics import accuracy_score\n",
    "accuracy_score(y_test,y_pred)"
   ]
  },
  {
   "cell_type": "markdown",
   "metadata": {
    "id": "y7UW_lYiXLFy"
   },
   "source": [
    "### After applyting hyper parameter tuning we noticed that the final accuracy score has come to 0.75 which is a very good outcome"
   ]
  },
  {
   "cell_type": "code",
   "execution_count": null,
   "metadata": {},
   "outputs": [],
   "source": []
  }
 ],
 "metadata": {
  "accelerator": "GPU",
  "colab": {
   "gpuType": "T4",
   "provenance": []
  },
  "kernelspec": {
   "display_name": "Python 3 (ipykernel)",
   "language": "python",
   "name": "python3"
  },
  "language_info": {
   "codemirror_mode": {
    "name": "ipython",
    "version": 3
   },
   "file_extension": ".py",
   "mimetype": "text/x-python",
   "name": "python",
   "nbconvert_exporter": "python",
   "pygments_lexer": "ipython3",
   "version": "3.10.9"
  }
 },
 "nbformat": 4,
 "nbformat_minor": 4
}
